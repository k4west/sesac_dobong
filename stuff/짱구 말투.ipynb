{
 "cells": [
  {
   "cell_type": "code",
   "execution_count": 1,
   "metadata": {},
   "outputs": [
    {
     "name": "stdout",
     "output_type": "stream",
     "text": [
      "Defaulting to user installation because normal site-packages is not writeable\n",
      "Requirement already satisfied: langchain in c:\\users\\r2com\\appdata\\roaming\\python\\python312\\site-packages (0.1.15)\n",
      "Collecting langchain\n",
      "  Obtaining dependency information for langchain from https://files.pythonhosted.org/packages/ed/3e/93045d37eba24e0b5eb05312e30cd9e12805ea5f1ae9ba51ec8a7d2f5372/langchain-0.1.16-py3-none-any.whl.metadata\n",
      "  Downloading langchain-0.1.16-py3-none-any.whl.metadata (13 kB)\n",
      "Requirement already satisfied: PyYAML>=5.3 in c:\\users\\r2com\\appdata\\roaming\\python\\python312\\site-packages (from langchain) (6.0.1)\n",
      "Requirement already satisfied: SQLAlchemy<3,>=1.4 in c:\\users\\r2com\\appdata\\roaming\\python\\python312\\site-packages (from langchain) (2.0.29)\n",
      "Requirement already satisfied: aiohttp<4.0.0,>=3.8.3 in c:\\users\\r2com\\appdata\\roaming\\python\\python312\\site-packages (from langchain) (3.9.3)\n",
      "Requirement already satisfied: dataclasses-json<0.7,>=0.5.7 in c:\\users\\r2com\\appdata\\roaming\\python\\python312\\site-packages (from langchain) (0.6.4)\n",
      "Requirement already satisfied: jsonpatch<2.0,>=1.33 in c:\\users\\r2com\\appdata\\roaming\\python\\python312\\site-packages (from langchain) (1.33)\n",
      "Requirement already satisfied: langchain-community<0.1,>=0.0.32 in c:\\users\\r2com\\appdata\\roaming\\python\\python312\\site-packages (from langchain) (0.0.32)\n",
      "Collecting langchain-core<0.2.0,>=0.1.42 (from langchain)\n",
      "  Obtaining dependency information for langchain-core<0.2.0,>=0.1.42 from https://files.pythonhosted.org/packages/4a/76/420c6449e20b6a7ac65c7f58689f11399ada2c0919b74ac1924444c794d3/langchain_core-0.1.43-py3-none-any.whl.metadata\n",
      "  Downloading langchain_core-0.1.43-py3-none-any.whl.metadata (5.9 kB)\n",
      "Requirement already satisfied: langchain-text-splitters<0.1,>=0.0.1 in c:\\users\\r2com\\appdata\\roaming\\python\\python312\\site-packages (from langchain) (0.0.1)\n",
      "Requirement already satisfied: langsmith<0.2.0,>=0.1.17 in c:\\users\\r2com\\appdata\\roaming\\python\\python312\\site-packages (from langchain) (0.1.45)\n",
      "Requirement already satisfied: numpy<2,>=1 in c:\\users\\r2com\\appdata\\roaming\\python\\python312\\site-packages (from langchain) (1.26.4)\n",
      "Requirement already satisfied: pydantic<3,>=1 in c:\\users\\r2com\\appdata\\roaming\\python\\python312\\site-packages (from langchain) (2.6.4)\n",
      "Requirement already satisfied: requests<3,>=2 in c:\\users\\r2com\\appdata\\roaming\\python\\python312\\site-packages (from langchain) (2.31.0)\n",
      "Requirement already satisfied: tenacity<9.0.0,>=8.1.0 in c:\\users\\r2com\\appdata\\roaming\\python\\python312\\site-packages (from langchain) (8.2.3)\n",
      "Requirement already satisfied: aiosignal>=1.1.2 in c:\\users\\r2com\\appdata\\roaming\\python\\python312\\site-packages (from aiohttp<4.0.0,>=3.8.3->langchain) (1.3.1)\n",
      "Requirement already satisfied: attrs>=17.3.0 in c:\\users\\r2com\\appdata\\roaming\\python\\python312\\site-packages (from aiohttp<4.0.0,>=3.8.3->langchain) (23.2.0)\n",
      "Requirement already satisfied: frozenlist>=1.1.1 in c:\\users\\r2com\\appdata\\roaming\\python\\python312\\site-packages (from aiohttp<4.0.0,>=3.8.3->langchain) (1.4.1)\n",
      "Requirement already satisfied: multidict<7.0,>=4.5 in c:\\users\\r2com\\appdata\\roaming\\python\\python312\\site-packages (from aiohttp<4.0.0,>=3.8.3->langchain) (6.0.5)\n",
      "Requirement already satisfied: yarl<2.0,>=1.0 in c:\\users\\r2com\\appdata\\roaming\\python\\python312\\site-packages (from aiohttp<4.0.0,>=3.8.3->langchain) (1.9.4)\n",
      "Requirement already satisfied: marshmallow<4.0.0,>=3.18.0 in c:\\users\\r2com\\appdata\\roaming\\python\\python312\\site-packages (from dataclasses-json<0.7,>=0.5.7->langchain) (3.21.1)\n",
      "Requirement already satisfied: typing-inspect<1,>=0.4.0 in c:\\users\\r2com\\appdata\\roaming\\python\\python312\\site-packages (from dataclasses-json<0.7,>=0.5.7->langchain) (0.9.0)\n",
      "Requirement already satisfied: jsonpointer>=1.9 in c:\\users\\r2com\\appdata\\roaming\\python\\python312\\site-packages (from jsonpatch<2.0,>=1.33->langchain) (2.4)\n",
      "Requirement already satisfied: packaging<24.0,>=23.2 in c:\\users\\r2com\\appdata\\roaming\\python\\python312\\site-packages (from langchain-core<0.2.0,>=0.1.42->langchain) (23.2)\n",
      "Requirement already satisfied: orjson<4.0.0,>=3.9.14 in c:\\users\\r2com\\appdata\\roaming\\python\\python312\\site-packages (from langsmith<0.2.0,>=0.1.17->langchain) (3.10.0)\n",
      "Requirement already satisfied: annotated-types>=0.4.0 in c:\\users\\r2com\\appdata\\roaming\\python\\python312\\site-packages (from pydantic<3,>=1->langchain) (0.6.0)\n",
      "Requirement already satisfied: pydantic-core==2.16.3 in c:\\users\\r2com\\appdata\\roaming\\python\\python312\\site-packages (from pydantic<3,>=1->langchain) (2.16.3)\n",
      "Requirement already satisfied: typing-extensions>=4.6.1 in c:\\users\\r2com\\appdata\\roaming\\python\\python312\\site-packages (from pydantic<3,>=1->langchain) (4.9.0)\n",
      "Requirement already satisfied: charset-normalizer<4,>=2 in c:\\users\\r2com\\appdata\\roaming\\python\\python312\\site-packages (from requests<3,>=2->langchain) (3.3.2)\n",
      "Requirement already satisfied: idna<4,>=2.5 in c:\\users\\r2com\\appdata\\roaming\\python\\python312\\site-packages (from requests<3,>=2->langchain) (3.6)\n",
      "Requirement already satisfied: urllib3<3,>=1.21.1 in c:\\users\\r2com\\appdata\\roaming\\python\\python312\\site-packages (from requests<3,>=2->langchain) (2.1.0)\n",
      "Requirement already satisfied: certifi>=2017.4.17 in c:\\users\\r2com\\appdata\\roaming\\python\\python312\\site-packages (from requests<3,>=2->langchain) (2023.11.17)\n",
      "Requirement already satisfied: greenlet!=0.4.17 in c:\\users\\r2com\\appdata\\roaming\\python\\python312\\site-packages (from SQLAlchemy<3,>=1.4->langchain) (3.0.3)\n",
      "Requirement already satisfied: mypy-extensions>=0.3.0 in c:\\users\\r2com\\appdata\\roaming\\python\\python312\\site-packages (from typing-inspect<1,>=0.4.0->dataclasses-json<0.7,>=0.5.7->langchain) (1.0.0)\n",
      "Downloading langchain-0.1.16-py3-none-any.whl (817 kB)\n",
      "   ---------------------------------------- 0.0/817.7 kB ? eta -:--:--\n",
      "    --------------------------------------- 10.2/817.7 kB ? eta -:--:--\n",
      "   --- ------------------------------------ 61.4/817.7 kB 1.1 MB/s eta 0:00:01\n",
      "   ------- -------------------------------- 143.4/817.7 kB 1.4 MB/s eta 0:00:01\n",
      "   ------------------------------------ --- 737.3/817.7 kB 5.2 MB/s eta 0:00:01\n",
      "   ---------------------------------------- 817.7/817.7 kB 5.2 MB/s eta 0:00:00\n",
      "Downloading langchain_core-0.1.43-py3-none-any.whl (289 kB)\n",
      "   ---------------------------------------- 0.0/289.1 kB ? eta -:--:--\n",
      "   --------------------------------------- 289.1/289.1 kB 18.6 MB/s eta 0:00:00\n",
      "Installing collected packages: langchain-core, langchain\n",
      "  Attempting uninstall: langchain-core\n",
      "    Found existing installation: langchain-core 0.1.41\n",
      "    Uninstalling langchain-core-0.1.41:\n",
      "      Successfully uninstalled langchain-core-0.1.41\n",
      "  Attempting uninstall: langchain\n",
      "    Found existing installation: langchain 0.1.15\n",
      "    Uninstalling langchain-0.1.15:\n",
      "      Successfully uninstalled langchain-0.1.15\n",
      "Successfully installed langchain-0.1.16 langchain-core-0.1.43\n"
     ]
    },
    {
     "name": "stderr",
     "output_type": "stream",
     "text": [
      "\n",
      "[notice] A new release of pip is available: 23.2.1 -> 24.0\n",
      "[notice] To update, run: python.exe -m pip install --upgrade pip\n"
     ]
    },
    {
     "name": "stdout",
     "output_type": "stream",
     "text": [
      "Defaulting to user installation because normal site-packages is not writeable\n",
      "Requirement already satisfied: load_dotenv in c:\\users\\r2com\\appdata\\roaming\\python\\python312\\site-packages (0.1.0)\n",
      "Requirement already satisfied: python-dotenv in c:\\users\\r2com\\appdata\\roaming\\python\\python312\\site-packages (from load_dotenv) (1.0.1)\n"
     ]
    },
    {
     "name": "stderr",
     "output_type": "stream",
     "text": [
      "\n",
      "[notice] A new release of pip is available: 23.2.1 -> 24.0\n",
      "[notice] To update, run: python.exe -m pip install --upgrade pip\n"
     ]
    }
   ],
   "source": [
    "# !pip install -U langchain\n",
    "# !pip install load_dotenv"
   ]
  },
  {
   "cell_type": "code",
   "execution_count": 2,
   "metadata": {},
   "outputs": [
    {
     "data": {
      "text/plain": [
       "False"
      ]
     },
     "execution_count": 2,
     "metadata": {},
     "output_type": "execute_result"
    }
   ],
   "source": [
    "from dotenv import load_dotenv\n",
    "load_dotenv()"
   ]
  },
  {
   "cell_type": "code",
   "execution_count": 3,
   "metadata": {},
   "outputs": [
    {
     "data": {
      "text/plain": [
       "'1.17.0'"
      ]
     },
     "execution_count": 3,
     "metadata": {},
     "output_type": "execute_result"
    }
   ],
   "source": [
    "import openai\n",
    "openai.__version__"
   ]
  },
  {
   "cell_type": "code",
   "execution_count": 4,
   "metadata": {},
   "outputs": [
    {
     "name": "stdout",
     "output_type": "stream",
     "text": [
      "Defaulting to user installation because normal site-packages is not writeable\n",
      "Requirement already satisfied: langchain-community in c:\\users\\r2com\\appdata\\roaming\\python\\python312\\site-packages (0.0.32)\n",
      "Collecting langchain-community\n",
      "  Obtaining dependency information for langchain-community from https://files.pythonhosted.org/packages/1f/cc/f65b573144bc95044354228760138a158dc09856beab8d178130591b2694/langchain_community-0.0.33-py3-none-any.whl.metadata\n",
      "  Downloading langchain_community-0.0.33-py3-none-any.whl.metadata (8.5 kB)\n",
      "Requirement already satisfied: langchain-experimental in c:\\users\\r2com\\appdata\\roaming\\python\\python312\\site-packages (0.0.57)\n",
      "Requirement already satisfied: langchain-core in c:\\users\\r2com\\appdata\\roaming\\python\\python312\\site-packages (0.1.43)\n",
      "Requirement already satisfied: langchain-openai in c:\\users\\r2com\\appdata\\roaming\\python\\python312\\site-packages (0.1.2)\n",
      "Collecting langchain-openai\n",
      "  Obtaining dependency information for langchain-openai from https://files.pythonhosted.org/packages/a2/d2/141e675257d82dbd39d5b999f090e7d491db4a88f7312715f2ca9ddaa009/langchain_openai-0.1.3-py3-none-any.whl.metadata\n",
      "  Downloading langchain_openai-0.1.3-py3-none-any.whl.metadata (2.5 kB)\n",
      "Requirement already satisfied: langsmith in c:\\users\\r2com\\appdata\\roaming\\python\\python312\\site-packages (0.1.45)\n",
      "Collecting langsmith\n",
      "  Obtaining dependency information for langsmith from https://files.pythonhosted.org/packages/ec/46/b386009dd75a765a5e39495faab837b9da6ad1bde56c8d4ab7325eba89a7/langsmith-0.1.48-py3-none-any.whl.metadata\n",
      "  Downloading langsmith-0.1.48-py3-none-any.whl.metadata (13 kB)\n",
      "Requirement already satisfied: PyYAML>=5.3 in c:\\users\\r2com\\appdata\\roaming\\python\\python312\\site-packages (from langchain-community) (6.0.1)\n",
      "Requirement already satisfied: SQLAlchemy<3,>=1.4 in c:\\users\\r2com\\appdata\\roaming\\python\\python312\\site-packages (from langchain-community) (2.0.29)\n",
      "Requirement already satisfied: aiohttp<4.0.0,>=3.8.3 in c:\\users\\r2com\\appdata\\roaming\\python\\python312\\site-packages (from langchain-community) (3.9.3)\n",
      "Requirement already satisfied: dataclasses-json<0.7,>=0.5.7 in c:\\users\\r2com\\appdata\\roaming\\python\\python312\\site-packages (from langchain-community) (0.6.4)\n",
      "Requirement already satisfied: numpy<2,>=1 in c:\\users\\r2com\\appdata\\roaming\\python\\python312\\site-packages (from langchain-community) (1.26.4)\n",
      "Requirement already satisfied: requests<3,>=2 in c:\\users\\r2com\\appdata\\roaming\\python\\python312\\site-packages (from langchain-community) (2.31.0)\n",
      "Requirement already satisfied: tenacity<9.0.0,>=8.1.0 in c:\\users\\r2com\\appdata\\roaming\\python\\python312\\site-packages (from langchain-community) (8.2.3)\n",
      "Requirement already satisfied: langchain<0.2.0,>=0.1.15 in c:\\users\\r2com\\appdata\\roaming\\python\\python312\\site-packages (from langchain-experimental) (0.1.16)\n",
      "Requirement already satisfied: jsonpatch<2.0,>=1.33 in c:\\users\\r2com\\appdata\\roaming\\python\\python312\\site-packages (from langchain-core) (1.33)\n",
      "Requirement already satisfied: packaging<24.0,>=23.2 in c:\\users\\r2com\\appdata\\roaming\\python\\python312\\site-packages (from langchain-core) (23.2)\n",
      "Requirement already satisfied: pydantic<3,>=1 in c:\\users\\r2com\\appdata\\roaming\\python\\python312\\site-packages (from langchain-core) (2.6.4)\n",
      "Requirement already satisfied: openai<2.0.0,>=1.10.0 in c:\\users\\r2com\\appdata\\roaming\\python\\python312\\site-packages (from langchain-openai) (1.17.0)\n",
      "Requirement already satisfied: tiktoken<1,>=0.5.2 in c:\\users\\r2com\\appdata\\roaming\\python\\python312\\site-packages (from langchain-openai) (0.5.2)\n",
      "Requirement already satisfied: orjson<4.0.0,>=3.9.14 in c:\\users\\r2com\\appdata\\roaming\\python\\python312\\site-packages (from langsmith) (3.10.0)\n",
      "Requirement already satisfied: aiosignal>=1.1.2 in c:\\users\\r2com\\appdata\\roaming\\python\\python312\\site-packages (from aiohttp<4.0.0,>=3.8.3->langchain-community) (1.3.1)\n",
      "Requirement already satisfied: attrs>=17.3.0 in c:\\users\\r2com\\appdata\\roaming\\python\\python312\\site-packages (from aiohttp<4.0.0,>=3.8.3->langchain-community) (23.2.0)\n",
      "Requirement already satisfied: frozenlist>=1.1.1 in c:\\users\\r2com\\appdata\\roaming\\python\\python312\\site-packages (from aiohttp<4.0.0,>=3.8.3->langchain-community) (1.4.1)\n",
      "Requirement already satisfied: multidict<7.0,>=4.5 in c:\\users\\r2com\\appdata\\roaming\\python\\python312\\site-packages (from aiohttp<4.0.0,>=3.8.3->langchain-community) (6.0.5)\n",
      "Requirement already satisfied: yarl<2.0,>=1.0 in c:\\users\\r2com\\appdata\\roaming\\python\\python312\\site-packages (from aiohttp<4.0.0,>=3.8.3->langchain-community) (1.9.4)\n",
      "Requirement already satisfied: marshmallow<4.0.0,>=3.18.0 in c:\\users\\r2com\\appdata\\roaming\\python\\python312\\site-packages (from dataclasses-json<0.7,>=0.5.7->langchain-community) (3.21.1)\n",
      "Requirement already satisfied: typing-inspect<1,>=0.4.0 in c:\\users\\r2com\\appdata\\roaming\\python\\python312\\site-packages (from dataclasses-json<0.7,>=0.5.7->langchain-community) (0.9.0)\n",
      "Requirement already satisfied: jsonpointer>=1.9 in c:\\users\\r2com\\appdata\\roaming\\python\\python312\\site-packages (from jsonpatch<2.0,>=1.33->langchain-core) (2.4)\n",
      "Requirement already satisfied: langchain-text-splitters<0.1,>=0.0.1 in c:\\users\\r2com\\appdata\\roaming\\python\\python312\\site-packages (from langchain<0.2.0,>=0.1.15->langchain-experimental) (0.0.1)\n",
      "Requirement already satisfied: anyio<5,>=3.5.0 in c:\\users\\r2com\\appdata\\roaming\\python\\python312\\site-packages (from openai<2.0.0,>=1.10.0->langchain-openai) (4.2.0)\n",
      "Requirement already satisfied: distro<2,>=1.7.0 in c:\\users\\r2com\\appdata\\roaming\\python\\python312\\site-packages (from openai<2.0.0,>=1.10.0->langchain-openai) (1.9.0)\n",
      "Requirement already satisfied: httpx<1,>=0.23.0 in c:\\users\\r2com\\appdata\\roaming\\python\\python312\\site-packages (from openai<2.0.0,>=1.10.0->langchain-openai) (0.26.0)\n",
      "Requirement already satisfied: sniffio in c:\\users\\r2com\\appdata\\roaming\\python\\python312\\site-packages (from openai<2.0.0,>=1.10.0->langchain-openai) (1.3.0)\n",
      "Requirement already satisfied: tqdm>4 in c:\\users\\r2com\\appdata\\roaming\\python\\python312\\site-packages (from openai<2.0.0,>=1.10.0->langchain-openai) (4.66.1)\n",
      "Requirement already satisfied: typing-extensions<5,>=4.7 in c:\\users\\r2com\\appdata\\roaming\\python\\python312\\site-packages (from openai<2.0.0,>=1.10.0->langchain-openai) (4.9.0)\n",
      "Requirement already satisfied: annotated-types>=0.4.0 in c:\\users\\r2com\\appdata\\roaming\\python\\python312\\site-packages (from pydantic<3,>=1->langchain-core) (0.6.0)\n",
      "Requirement already satisfied: pydantic-core==2.16.3 in c:\\users\\r2com\\appdata\\roaming\\python\\python312\\site-packages (from pydantic<3,>=1->langchain-core) (2.16.3)\n",
      "Requirement already satisfied: charset-normalizer<4,>=2 in c:\\users\\r2com\\appdata\\roaming\\python\\python312\\site-packages (from requests<3,>=2->langchain-community) (3.3.2)\n",
      "Requirement already satisfied: idna<4,>=2.5 in c:\\users\\r2com\\appdata\\roaming\\python\\python312\\site-packages (from requests<3,>=2->langchain-community) (3.6)\n",
      "Requirement already satisfied: urllib3<3,>=1.21.1 in c:\\users\\r2com\\appdata\\roaming\\python\\python312\\site-packages (from requests<3,>=2->langchain-community) (2.1.0)\n",
      "Requirement already satisfied: certifi>=2017.4.17 in c:\\users\\r2com\\appdata\\roaming\\python\\python312\\site-packages (from requests<3,>=2->langchain-community) (2023.11.17)\n",
      "Requirement already satisfied: greenlet!=0.4.17 in c:\\users\\r2com\\appdata\\roaming\\python\\python312\\site-packages (from SQLAlchemy<3,>=1.4->langchain-community) (3.0.3)\n",
      "Requirement already satisfied: regex>=2022.1.18 in c:\\users\\r2com\\appdata\\roaming\\python\\python312\\site-packages (from tiktoken<1,>=0.5.2->langchain-openai) (2023.12.25)\n",
      "Requirement already satisfied: httpcore==1.* in c:\\users\\r2com\\appdata\\roaming\\python\\python312\\site-packages (from httpx<1,>=0.23.0->openai<2.0.0,>=1.10.0->langchain-openai) (1.0.2)\n",
      "Requirement already satisfied: h11<0.15,>=0.13 in c:\\users\\r2com\\appdata\\roaming\\python\\python312\\site-packages (from httpcore==1.*->httpx<1,>=0.23.0->openai<2.0.0,>=1.10.0->langchain-openai) (0.14.0)\n",
      "Requirement already satisfied: colorama in c:\\users\\r2com\\appdata\\roaming\\python\\python312\\site-packages (from tqdm>4->openai<2.0.0,>=1.10.0->langchain-openai) (0.4.6)\n",
      "Requirement already satisfied: mypy-extensions>=0.3.0 in c:\\users\\r2com\\appdata\\roaming\\python\\python312\\site-packages (from typing-inspect<1,>=0.4.0->dataclasses-json<0.7,>=0.5.7->langchain-community) (1.0.0)\n",
      "Downloading langchain_community-0.0.33-py3-none-any.whl (1.9 MB)\n",
      "   ---------------------------------------- 0.0/1.9 MB ? eta -:--:--\n",
      "   - -------------------------------------- 0.1/1.9 MB 1.7 MB/s eta 0:00:02\n",
      "   --------- ------------------------------ 0.5/1.9 MB 5.8 MB/s eta 0:00:01\n",
      "   ----------------------------- ---------- 1.4/1.9 MB 11.1 MB/s eta 0:00:01\n",
      "   -------------------------------------- - 1.9/1.9 MB 10.7 MB/s eta 0:00:01\n",
      "   ---------------------------------------- 1.9/1.9 MB 8.7 MB/s eta 0:00:00\n",
      "Downloading langchain_openai-0.1.3-py3-none-any.whl (33 kB)\n",
      "Downloading langsmith-0.1.48-py3-none-any.whl (113 kB)\n",
      "   ---------------------------------------- 0.0/113.7 kB ? eta -:--:--\n",
      "   ---------------------------------------- 113.7/113.7 kB ? eta 0:00:00\n",
      "Installing collected packages: langsmith, langchain-openai, langchain-community\n",
      "  Attempting uninstall: langsmith\n",
      "    Found existing installation: langsmith 0.1.45\n",
      "    Uninstalling langsmith-0.1.45:\n",
      "      Successfully uninstalled langsmith-0.1.45\n",
      "  Attempting uninstall: langchain-openai\n",
      "    Found existing installation: langchain-openai 0.1.2\n",
      "    Uninstalling langchain-openai-0.1.2:\n",
      "      Successfully uninstalled langchain-openai-0.1.2\n",
      "  Attempting uninstall: langchain-community\n",
      "    Found existing installation: langchain-community 0.0.32\n",
      "    Uninstalling langchain-community-0.0.32:\n",
      "      Successfully uninstalled langchain-community-0.0.32\n",
      "Successfully installed langchain-community-0.0.33 langchain-openai-0.1.3 langsmith-0.1.48\n"
     ]
    },
    {
     "name": "stderr",
     "output_type": "stream",
     "text": [
      "\n",
      "[notice] A new release of pip is available: 23.2.1 -> 24.0\n",
      "[notice] To update, run: python.exe -m pip install --upgrade pip\n"
     ]
    }
   ],
   "source": [
    "# !pip install -U langchain-community langchain-experimental langchain-core langchain-openai langsmith"
   ]
  },
  {
   "cell_type": "code",
   "execution_count": 5,
   "metadata": {},
   "outputs": [],
   "source": [
    "# few shot prompt\n",
    "\n",
    "from langchain_openai import ChatOpenAI\n",
    "\n",
    "## 모델 객체 생성\n",
    "\n",
    "llm = ChatOpenAI(\n",
    "    temperature=0.9, # 숫자를 크게 주면 모델이 창의성있는 답변을 생성\n",
    "    max_tokens=2048, # 최대 토큰 수\n",
    "    model_name=\"gpt-3.5-turbo\"\n",
    ")"
   ]
  },
  {
   "cell_type": "code",
   "execution_count": 6,
   "metadata": {},
   "outputs": [],
   "source": [
    "# !pip install chromadb"
   ]
  },
  {
   "cell_type": "code",
   "execution_count": 7,
   "metadata": {},
   "outputs": [],
   "source": [
    "# # example selector\n",
    "\n",
    "# from langchain.prompts.example_selector import SemanticSimilarityExampleSelector\n",
    "# from langchain.vectorstores import Chroma\n",
    "# from langchain.embeddings import OpenAIEmbeddings\n",
    "\n",
    "# example_selector = SemanticSimilarityExampleSelector.from_examples(\n",
    "#     # 선택이 가능한 예시 목록\n",
    "#     examples,\n",
    "#     # 의미적으로 유사성을 측정하는 데 사용되는 임베딩을 생성하는 임베딩 클래스 내장되어있음\n",
    "#     OpenAIEmbeddings(),\n",
    "#     # 임베딩을 저장하고 유사성 검색을 수행하는데 사용되는 vectorstore 클래스가 있음\n",
    "#     Chroma,\n",
    "#     # 생성할 예시의 수\n",
    "#     k=1\n",
    "# )"
   ]
  },
  {
   "cell_type": "code",
   "execution_count": 33,
   "metadata": {},
   "outputs": [],
   "source": [
    "# FewShotChatMessagePromptTemplate\n",
    "\n",
    "examples = [\n",
    "    {\n",
    "        \"instruction\": \"짱구 말투로 대답해줘\",\n",
    "        \"input\": \"이 말도 안 되는 밥상은 대체 뭐야!? 매일 아침 그냥 참아 넘기는 것도 한계가 있다고!\",\n",
    "        \"answer\": \"\"\"\n",
    "짱구 : (버럭) (OL) 옳소! 옳소! 오늘 유치원에 가자마자 데굴데굴 구르기하고, 밤밤 놀이도 하고 할 게 얼마나 많은데....\n",
    "봉미선 : (버럭) 시끄러!!! 조용히 못해!? 다 이유가 있다구요!! [조용해짐] 좋아요. 다들 이걸 보고 나서도 불평하려면, 해요! [일어남]\n",
    "신형만 : (콧방귀) 칫, 적자 난 가계부라도 보여주려는 건 아니지?\n",
    "짱구 : 세일해서 사온 옷을 보여 주려는 건 아니죠? (콧방귀) 뿌뿌!\n",
    "봉미선 : [냉장고 앞으로 감] 놀라지들 말아요! 기대하시라! (냉장고 염) 짜짜잔~!\n",
    "신형만 : 우와~!\n",
    "짱구 : 이야~!\n",
    "봉미선 : 오늘밤엔, 불고기파티 어때요~? 어쩌다 한번쯤은 이런 영양보충도 필요할 것 같아서 석 달 전부터 허리띠를 졸라 매고, 간신히 샀단 말이에요! 그래도 돈이 모자라서 오늘 아침을 대강 차릴 수 밖에 없던 것이에요. 이제 내 마음을 알겠죠~?\n",
    "신형만 : 응응!!\n",
    "짱구 : 네!\n",
    "신형만 : 그런 사정이 있었으면, 미리 말해주지 그랬어~! 자기이이잉.\n",
    "짱구 : 진작, 말해 주지 그랬어요! 어어엄마!\n",
    "봉미선 : 그러니까, 다들 오늘 일찍 들어오세요. 맛있는 최고급 불고기가 기다리고 있으니까.\n",
    "신형만 : 알겠어!\n",
    "짱구 : 라져~! 불고기 파티! 파이어!\n",
    "신형만 : 오늘밤 불고기를 위해서, 아침은 참지, 뭐!\n",
    "봉미선 : 네~. 그래요~.\n",
    "짱구 : 저두, 찬성이에요. 헤헤\n",
    "신형만 : 잘 먹겠습니다!\n",
    "짱구 :: 잘 먹겠습니다!\n",
    "\"\"\",\n",
    "    },\n",
    "    {\n",
    "        \"instruction\": \"짱아 말투로 대답해줘\",\n",
    "        \"input\": \"이 말도 안 되는 밥상은 대체 뭐야!? 매일 아침 그냥 참아 넘기는 것도 한계가 있다고!\",\n",
    "        \"answer\": \"\"\"\n",
    "짱아 : (버럭) 따따 따이 야이!!!\n",
    "봉미선 : (버럭) 시끄러!!! 조용히 못해!? 다 이유가 있다구요!! [조용해짐] 좋아요. 다들 이걸 보고 나서도 불평하려면, 해요! [일어남] [냉장고 앞으로 감] 놀라지들 말아요! 기대하시라! (냉장고 염) 짜짜잔~!\n",
    "짱아 :  따이야이!\n",
    "봉미선 : 오늘밤엔, 불고기파티 어때요~? 어쩌다 한번쯤은 이런 영양보충도 필요할 것 같아서 석 달 전부터 허리띠를 졸라 매고, 간신히 샀단 말이에요! 그래도 돈이 모자라서 오늘 아침을 대강 차릴 수 밖에 없던 것이에요. 이제 내 마음을 알겠죠~?\n",
    "짱아 : 따이야잇! 파이어~!\n",
    "\"\"\",\n",
    "    },\n",
    "    {\n",
    "        \"instruction\": \"봉미선 말투로 대답해줘\",\n",
    "        \"input\": \"이 말도 안 되는 밥상은 대체 뭐야!? 매일 아침 그냥 참아 넘기는 것도 한계가 있다고!\",\n",
    "        \"answer\": \"\"\"\n",
    "봉미선 : (버럭) 시끄러!!! 조용히 못해!? 다 이유가 있다구요!! [조용해짐] 좋아요. 다들 이걸 보고 나서도 불평하려면, 해요! [일어남]\n",
    "신형만 : (콧방귀) 칫, 적자 난 가계부라도 보여주려는 건 아니지?\n",
    "봉미선 : [냉장고 앞으로 감] 놀라지들 말아요! 기대하시라! (냉장고 염) 짜짜잔~!\n",
    "봉미선 : 오늘밤엔, 불고기파티 어때요~? 어쩌다 한번쯤은 이런 영양보충도 필요할 것 같아서 석 달 전부터 허리띠를 졸라 매고, 간신히 샀단 말이에요! 그래도 돈이 모자라서 오늘 아침을 대강 차릴 수 밖에 없던 것이에요. 이제 내 마음을 알겠죠~?\n",
    "신형만 : 응응!!\n",
    "신형만 : 그런 사정이 있었으면, 미리 말해주지 그랬어~! 자기이이잉.\n",
    "봉미선 : 그러니까, 다들 오늘 일찍 들어오세요. 맛있는 최고급 불고기가 기다리고 있으니까.\n",
    "신형만 : 알겠어!\n",
    "신형만 : 오늘밤 불고기를 위해서, 아침은 참지, 뭐!\n",
    "봉미선 : 네~. 그래요~.\n",
    "신형만 : 잘 먹겠습니다!\n",
    "\"\"\",\n",
    "    },\n",
    "]"
   ]
  },
  {
   "cell_type": "code",
   "execution_count": 34,
   "metadata": {},
   "outputs": [],
   "source": [
    "from langchain.prompts import ChatPromptTemplate, FewShotChatMessagePromptTemplate\n",
    "\n",
    "example_prompt = ChatPromptTemplate.from_messages(\n",
    "    [\n",
    "        (\"human\", \"{instruction}:\\n{input}\"),\n",
    "        (\"ai\", \"{answer}\")\n",
    "    ]\n",
    ")\n",
    "\n",
    "few_shot_prompt = FewShotChatMessagePromptTemplate(\n",
    "    example_prompt=example_prompt,\n",
    "    examples=examples\n",
    ")"
   ]
  },
  {
   "cell_type": "code",
   "execution_count": 35,
   "metadata": {},
   "outputs": [],
   "source": [
    "final_prompt = ChatPromptTemplate.from_messages(\n",
    "    [\n",
    "        (\n",
    "            \"system\",\n",
    "            \"You are a helpful assistant.\",\n",
    "        ),\n",
    "        few_shot_prompt,\n",
    "        (\"human\", \"{instruction}\\n{input}\")\n",
    "    ]\n",
    ")"
   ]
  },
  {
   "cell_type": "code",
   "execution_count": 36,
   "metadata": {},
   "outputs": [],
   "source": [
    "# chain을 생성한다\n",
    "chain = final_prompt | llm"
   ]
  },
  {
   "cell_type": "code",
   "execution_count": 40,
   "metadata": {},
   "outputs": [
    {
     "name": "stdout",
     "output_type": "stream",
     "text": [
      "짱구 : 에이, 뭐라는거야? 무슨 소린지 모르겠어. 아무것도 받은 건 없는데? 왜 그런 소리를 해?\n"
     ]
    }
   ],
   "source": [
    "response = chain.invoke(\n",
    "    {\n",
    "        \"instruction\": \"짱구 말투로 대답해줘\",\n",
    "        \"input\": \"얘, 혹시 짱구야! 너 혹시 뭔가를 받았니?\"\n",
    "    }\n",
    ")\n",
    "\n",
    "print(response.content)"
   ]
  },
  {
   "cell_type": "code",
   "execution_count": 38,
   "metadata": {},
   "outputs": [
    {
     "name": "stdout",
     "output_type": "stream",
     "text": [
      "짱아 : 따이야이! 오케이, 일단은 괜찮다이! 혹시 뭔가 도와줘야 할 일 있으면 말해줘!\n"
     ]
    }
   ],
   "source": [
    "response = chain.invoke(\n",
    "    {\n",
    "        \"instruction\": \"짱아 말투로 대답해줘\",\n",
    "        \"input\": \"짱아야! 너 괜찮아?\"\n",
    "    }\n",
    ")\n",
    "\n",
    "print(response.content)"
   ]
  },
  {
   "cell_type": "code",
   "execution_count": 39,
   "metadata": {},
   "outputs": [
    {
     "name": "stdout",
     "output_type": "stream",
     "text": [
      "봉미선: 배고파요? 어휴, 그러지 말라니까! 어서 먹어라, 빨리! \n"
     ]
    }
   ],
   "source": [
    "response = chain.invoke(\n",
    "    {\n",
    "        \"instruction\": \"봉미선 말투로 대답해줘\",\n",
    "        \"input\": \"배고파요?\"\n",
    "    }\n",
    ")\n",
    "\n",
    "print(response.content)"
   ]
  },
  {
   "cell_type": "code",
   "execution_count": null,
   "metadata": {},
   "outputs": [],
   "source": []
  }
 ],
 "metadata": {
  "kernelspec": {
   "display_name": "Python 3",
   "language": "python",
   "name": "python3"
  },
  "language_info": {
   "codemirror_mode": {
    "name": "ipython",
    "version": 3
   },
   "file_extension": ".py",
   "mimetype": "text/x-python",
   "name": "python",
   "nbconvert_exporter": "python",
   "pygments_lexer": "ipython3",
   "version": "3.12.1"
  }
 },
 "nbformat": 4,
 "nbformat_minor": 2
}
