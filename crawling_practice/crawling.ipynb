{
 "cells": [
  {
   "cell_type": "code",
   "execution_count": 12,
   "metadata": {},
   "outputs": [],
   "source": [
    "with open('example.txt', 'a') as f:\n",
    "    f.write(\"\\n\")\n",
    "    f.write(\"안녕 도봉아!\")"
   ]
  },
  {
   "cell_type": "code",
   "execution_count": 13,
   "metadata": {},
   "outputs": [
    {
     "name": "stdout",
     "output_type": "stream",
     "text": [
      "안녕 도봉아!\n",
      "안녕 도봉아!\n",
      "안녕 도봉아!\n",
      "안녕 도봉아!\n",
      "안녕 도봉아!\n",
      "안녕 도봉아!\n",
      "안녕 도봉아!\n",
      "안녕 도봉아!\n",
      "안녕 도봉아!\n"
     ]
    }
   ],
   "source": [
    "with open('example.txt', 'r') as f:\n",
    "    string = f.read()\n",
    "    print(string)"
   ]
  },
  {
   "cell_type": "code",
   "execution_count": 18,
   "metadata": {},
   "outputs": [
    {
     "data": {
      "text/plain": [
       "b'\\xec\\x95\\x88\\xeb\\x85\\x95\\xed\\x95\\x98\\xec\\x84\\xb8\\xec\\x9a\\x94!'"
      ]
     },
     "execution_count": 18,
     "metadata": {},
     "output_type": "execute_result"
    }
   ],
   "source": [
    "# 문자열 인코딩\n",
    "text = \"안녕하세요!\"\n",
    "encoded_text = text.encode('utf-8')\n",
    "with open('example2.txt', 'wb') as f:\n",
    "    f.write(encoded_text)\n",
    "encoded_text"
   ]
  },
  {
   "cell_type": "code",
   "execution_count": 19,
   "metadata": {},
   "outputs": [
    {
     "data": {
      "text/plain": [
       "'안녕하세요!'"
      ]
     },
     "execution_count": 19,
     "metadata": {},
     "output_type": "execute_result"
    }
   ],
   "source": [
    "decoded_text = encoded_text.decode('utf-8')\n",
    "decoded_text"
   ]
  },
  {
   "cell_type": "code",
   "execution_count": null,
   "metadata": {},
   "outputs": [],
   "source": []
  }
 ],
 "metadata": {
  "kernelspec": {
   "display_name": "Python 3",
   "language": "python",
   "name": "python3"
  },
  "language_info": {
   "codemirror_mode": {
    "name": "ipython",
    "version": 3
   },
   "file_extension": ".py",
   "mimetype": "text/x-python",
   "name": "python",
   "nbconvert_exporter": "python",
   "pygments_lexer": "ipython3",
   "version": "3.12.1"
  }
 },
 "nbformat": 4,
 "nbformat_minor": 2
}
