{
 "cells": [
  {
   "cell_type": "code",
   "execution_count": 1,
   "metadata": {},
   "outputs": [],
   "source": [
    "class Zealot:\n",
    "    velocity = 1.00  # 클래스 변수\n",
    "\n",
    "    def __init__(self, hp, shield, damge):\n",
    "        self.hp = hp\n",
    "        self.shield = shield\n",
    "        self.damge = damge\n",
    "\n",
    "    def roar(self):\n",
    "        print(\"My life for Aiur\")"
   ]
  },
  {
   "cell_type": "code",
   "execution_count": 2,
   "metadata": {},
   "outputs": [
    {
     "name": "stdout",
     "output_type": "stream",
     "text": [
      "1.0\n",
      "1.0\n",
      "1.0\n"
     ]
    }
   ],
   "source": [
    "# 인스턴스 생성\n",
    "zealot_1 = Zealot(100, 60, 8)\n",
    "zealot_2 = Zealot(100, 60, 8)\n",
    "\n",
    "# 클래스 변수 사용\n",
    "print(Zealot.velocity)\n",
    "print(zealot_1.velocity)\n",
    "print(zealot_2.velocity)"
   ]
  },
  {
   "cell_type": "code",
   "execution_count": 3,
   "metadata": {},
   "outputs": [
    {
     "name": "stdout",
     "output_type": "stream",
     "text": [
      "1.05\n",
      "1.05\n",
      "1.05\n"
     ]
    }
   ],
   "source": [
    "Zealot.velocity = 1.05\n",
    "\n",
    "print(Zealot.velocity)\n",
    "print(zealot_1.velocity)\n",
    "print(zealot_2.velocity)"
   ]
  },
  {
   "cell_type": "code",
   "execution_count": 4,
   "metadata": {},
   "outputs": [
    {
     "name": "stdout",
     "output_type": "stream",
     "text": [
      "1.05\n",
      "2\n",
      "1.05\n"
     ]
    }
   ],
   "source": [
    "zealot_1.velocity = 2\n",
    "\n",
    "print(Zealot.velocity)\n",
    "print(zealot_1.velocity)\n",
    "print(zealot_2.velocity)"
   ]
  },
  {
   "cell_type": "code",
   "execution_count": 6,
   "metadata": {},
   "outputs": [
    {
     "data": {
      "text/plain": [
       "{'hp': 100, 'shield': 60, 'damge': 8, 'velocity': 2}"
      ]
     },
     "execution_count": 6,
     "metadata": {},
     "output_type": "execute_result"
    }
   ],
   "source": [
    "zealot_1.__dict__"
   ]
  },
  {
   "cell_type": "code",
   "execution_count": 7,
   "metadata": {},
   "outputs": [
    {
     "name": "stdout",
     "output_type": "stream",
     "text": [
      "My life for Aiur\n"
     ]
    }
   ],
   "source": [
    "zealot_1.roar()"
   ]
  },
  {
   "cell_type": "code",
   "execution_count": null,
   "metadata": {},
   "outputs": [],
   "source": []
  }
 ],
 "metadata": {
  "kernelspec": {
   "display_name": ".venv",
   "language": "python",
   "name": "python3"
  },
  "language_info": {
   "codemirror_mode": {
    "name": "ipython",
    "version": 3
   },
   "file_extension": ".py",
   "mimetype": "text/x-python",
   "name": "python",
   "nbconvert_exporter": "python",
   "pygments_lexer": "ipython3",
   "version": "3.12.1"
  }
 },
 "nbformat": 4,
 "nbformat_minor": 2
}
