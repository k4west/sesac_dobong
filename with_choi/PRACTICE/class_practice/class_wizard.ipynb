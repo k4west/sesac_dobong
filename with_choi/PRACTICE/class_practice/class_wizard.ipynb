{
 "cells": [
  {
   "cell_type": "code",
   "execution_count": 1,
   "metadata": {},
   "outputs": [
    {
     "name": "stdout",
     "output_type": "stream",
     "text": [
      "안녕? 나는 덤블도어이야. 올해 60가 됐어. 내 엑스펙토 파트로눔맛 좀 볼래?\n"
     ]
    }
   ],
   "source": [
    "class Wizard:\n",
    "    def __init__(self, name, age, skill):\n",
    "        self.name = name\n",
    "        self.age = age\n",
    "        self.skill = skill\n",
    "\n",
    "    def greet(self):\n",
    "        return f\"안녕? 나는 {self.name}이야. 올해 {self.age}가 됐어. 내 {self.skill}맛 좀 볼래?\"\n",
    "\n",
    "\n",
    "dumbledore = Wizard(\"덤블도어\", 60, \"엑스펙토 파트로눔\")\n",
    "print(dumbledore.greet())"
   ]
  },
  {
   "cell_type": "code",
   "execution_count": 2,
   "metadata": {},
   "outputs": [
    {
     "data": {
      "text/plain": [
       "{'name': '덤블도어', 'age': 60, 'skill': '엑스펙토 파트로눔'}"
      ]
     },
     "execution_count": 2,
     "metadata": {},
     "output_type": "execute_result"
    }
   ],
   "source": [
    "dumbledore.__dict__"
   ]
  },
  {
   "cell_type": "code",
   "execution_count": null,
   "metadata": {},
   "outputs": [],
   "source": []
  }
 ],
 "metadata": {
  "kernelspec": {
   "display_name": ".venv",
   "language": "python",
   "name": "python3"
  },
  "language_info": {
   "codemirror_mode": {
    "name": "ipython",
    "version": 3
   },
   "file_extension": ".py",
   "mimetype": "text/x-python",
   "name": "python",
   "nbconvert_exporter": "python",
   "pygments_lexer": "ipython3",
   "version": "3.12.1"
  }
 },
 "nbformat": 4,
 "nbformat_minor": 2
}
