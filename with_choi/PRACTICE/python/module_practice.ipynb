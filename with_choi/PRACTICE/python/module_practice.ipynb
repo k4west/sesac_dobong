{
 "cells": [
  {
   "cell_type": "code",
   "execution_count": 4,
   "metadata": {},
   "outputs": [
    {
     "name": "stdout",
     "output_type": "stream",
     "text": [
      "4.0\n"
     ]
    }
   ],
   "source": [
    "import math\n",
    "print(math.sqrt(16))"
   ]
  },
  {
   "cell_type": "code",
   "execution_count": 5,
   "metadata": {},
   "outputs": [
    {
     "name": "stdout",
     "output_type": "stream",
     "text": [
      "8.0\n"
     ]
    }
   ],
   "source": [
    "print(math.pow(2, 3))"
   ]
  },
  {
   "cell_type": "code",
   "execution_count": 6,
   "metadata": {},
   "outputs": [
    {
     "name": "stdout",
     "output_type": "stream",
     "text": [
      "2.302585092994046\n",
      "2.0\n"
     ]
    }
   ],
   "source": [
    "print(math.log(10))\n",
    "print(math.log(100, 10))"
   ]
  },
  {
   "cell_type": "code",
   "execution_count": 7,
   "metadata": {},
   "outputs": [
    {
     "name": "stdout",
     "output_type": "stream",
     "text": [
      "5\n"
     ]
    }
   ],
   "source": [
    "import random\n",
    "print(random.randint(1, 10))"
   ]
  },
  {
   "cell_type": "code",
   "execution_count": 8,
   "metadata": {},
   "outputs": [
    {
     "name": "stdout",
     "output_type": "stream",
     "text": [
      "애플\n"
     ]
    }
   ],
   "source": [
    "itmes = ['삼성', '애플', '구글']\n",
    "print(random.choice(itmes))"
   ]
  },
  {
   "cell_type": "code",
   "execution_count": 9,
   "metadata": {},
   "outputs": [
    {
     "name": "stdout",
     "output_type": "stream",
     "text": [
      "[3, 1, 5, 2, 4]\n"
     ]
    }
   ],
   "source": [
    "numbers = [1, 2, 3, 4, 5]\n",
    "random.shuffle(numbers)\n",
    "print(numbers)"
   ]
  },
  {
   "cell_type": "code",
   "execution_count": 10,
   "metadata": {},
   "outputs": [
    {
     "name": "stdout",
     "output_type": "stream",
     "text": [
      "0.12537340089507776\n"
     ]
    }
   ],
   "source": [
    "print(random.random())"
   ]
  },
  {
   "cell_type": "code",
   "execution_count": 11,
   "metadata": {},
   "outputs": [
    {
     "name": "stdout",
     "output_type": "stream",
     "text": [
      "['애플', '삼성']\n"
     ]
    }
   ],
   "source": [
    "print(random.choices(['삼성', '애플', '구글'], weights=[3, 1, 1], k=2))"
   ]
  },
  {
   "cell_type": "code",
   "execution_count": 12,
   "metadata": {},
   "outputs": [
    {
     "name": "stdout",
     "output_type": "stream",
     "text": [
      "['애플', '카카오']\n",
      "['네이버', '네이버']\n"
     ]
    }
   ],
   "source": [
    "print(random.sample(['삼성', '애플', '구글', '카카오', '네이버'],  2))\n",
    "print(random.sample(['삼성', '애플', '구글', '카카오', '네이버'],  2, counts=[1,1,1,1,10000000]))"
   ]
  },
  {
   "cell_type": "code",
   "execution_count": 13,
   "metadata": {},
   "outputs": [
    {
     "name": "stdout",
     "output_type": "stream",
     "text": [
      "Counter({'S': 1, 'a': 1, 'm': 1, 's': 1, 'u': 1, 'n': 1, 'g': 1})\n"
     ]
    }
   ],
   "source": [
    "from collections import Counter\n",
    "\n",
    "char_count = Counter(\"Samsung\")\n",
    "print(char_count)"
   ]
  },
  {
   "cell_type": "code",
   "execution_count": 14,
   "metadata": {},
   "outputs": [
    {
     "name": "stdout",
     "output_type": "stream",
     "text": [
      "Counter({'삼성': 3, '네이버': 3, '애플': 2, '아마존': 1})\n",
      "[('삼성', 3)]\n",
      "[('삼성', 3), ('네이버', 3)]\n",
      "2\n",
      "9\n"
     ]
    }
   ],
   "source": [
    "word_count = Counter(['삼성', '애플', '삼성', '아마존', '애플', '삼성', '네이버', '네이버', '네이버'])\n",
    "print(word_count)\n",
    "\n",
    "print(word_count.most_common(1))\n",
    "print(word_count.most_common(2))\n",
    "\n",
    "print(word_count['애플'])\n",
    "\n",
    "print(sum(word_count.values()))"
   ]
  },
  {
   "cell_type": "code",
   "execution_count": 15,
   "metadata": {},
   "outputs": [
    {
     "data": {
      "text/html": [
       "<div>\n",
       "<style scoped>\n",
       "    .dataframe tbody tr th:only-of-type {\n",
       "        vertical-align: middle;\n",
       "    }\n",
       "\n",
       "    .dataframe tbody tr th {\n",
       "        vertical-align: top;\n",
       "    }\n",
       "\n",
       "    .dataframe thead th {\n",
       "        text-align: right;\n",
       "    }\n",
       "</style>\n",
       "<table border=\"1\" class=\"dataframe\">\n",
       "  <thead>\n",
       "    <tr style=\"text-align: right;\">\n",
       "      <th></th>\n",
       "      <th>num_legs</th>\n",
       "      <th>num_wings</th>\n",
       "      <th>num_specimen_seen</th>\n",
       "    </tr>\n",
       "  </thead>\n",
       "  <tbody>\n",
       "    <tr>\n",
       "      <th>falcon</th>\n",
       "      <td>2</td>\n",
       "      <td>2</td>\n",
       "      <td>10</td>\n",
       "    </tr>\n",
       "    <tr>\n",
       "      <th>dog</th>\n",
       "      <td>4</td>\n",
       "      <td>0</td>\n",
       "      <td>2</td>\n",
       "    </tr>\n",
       "    <tr>\n",
       "      <th>spider</th>\n",
       "      <td>8</td>\n",
       "      <td>0</td>\n",
       "      <td>1</td>\n",
       "    </tr>\n",
       "    <tr>\n",
       "      <th>fish</th>\n",
       "      <td>0</td>\n",
       "      <td>0</td>\n",
       "      <td>8</td>\n",
       "    </tr>\n",
       "  </tbody>\n",
       "</table>\n",
       "</div>"
      ],
      "text/plain": [
       "        num_legs  num_wings  num_specimen_seen\n",
       "falcon         2          2                 10\n",
       "dog            4          0                  2\n",
       "spider         8          0                  1\n",
       "fish           0          0                  8"
      ]
     },
     "execution_count": 15,
     "metadata": {},
     "output_type": "execute_result"
    }
   ],
   "source": [
    "import pandas as pd\n",
    "df = pd.DataFrame({'num_legs': [2, 4, 8, 0],\n",
    "                   'num_wings': [2, 0, 0, 0],\n",
    "                   'num_specimen_seen': [10, 2, 1, 8]},\n",
    "                   index=['falcon', 'dog', 'spider', 'fish'])\n",
    "df"
   ]
  },
  {
   "cell_type": "code",
   "execution_count": 16,
   "metadata": {},
   "outputs": [
    {
     "data": {
      "text/plain": [
       "fish      0\n",
       "falcon    2\n",
       "Name: num_legs, dtype: int64"
      ]
     },
     "execution_count": 16,
     "metadata": {},
     "output_type": "execute_result"
    }
   ],
   "source": [
    "df['num_legs'].sample(n=2, weights=[1,1,1,100000000000000000000], random_state=1)"
   ]
  },
  {
   "cell_type": "code",
   "execution_count": 17,
   "metadata": {},
   "outputs": [
    {
     "data": {
      "text/html": [
       "<div>\n",
       "<style scoped>\n",
       "    .dataframe tbody tr th:only-of-type {\n",
       "        vertical-align: middle;\n",
       "    }\n",
       "\n",
       "    .dataframe tbody tr th {\n",
       "        vertical-align: top;\n",
       "    }\n",
       "\n",
       "    .dataframe thead th {\n",
       "        text-align: right;\n",
       "    }\n",
       "</style>\n",
       "<table border=\"1\" class=\"dataframe\">\n",
       "  <thead>\n",
       "    <tr style=\"text-align: right;\">\n",
       "      <th></th>\n",
       "      <th>num_legs</th>\n",
       "      <th>num_wings</th>\n",
       "      <th>num_specimen_seen</th>\n",
       "    </tr>\n",
       "  </thead>\n",
       "  <tbody>\n",
       "    <tr>\n",
       "      <th>falcon</th>\n",
       "      <td>2</td>\n",
       "      <td>2</td>\n",
       "      <td>10</td>\n",
       "    </tr>\n",
       "    <tr>\n",
       "      <th>fish</th>\n",
       "      <td>0</td>\n",
       "      <td>0</td>\n",
       "      <td>8</td>\n",
       "    </tr>\n",
       "  </tbody>\n",
       "</table>\n",
       "</div>"
      ],
      "text/plain": [
       "        num_legs  num_wings  num_specimen_seen\n",
       "falcon         2          2                 10\n",
       "fish           0          0                  8"
      ]
     },
     "execution_count": 17,
     "metadata": {},
     "output_type": "execute_result"
    }
   ],
   "source": [
    "df.sample(n=2, weights='num_specimen_seen', random_state=1)"
   ]
  },
  {
   "cell_type": "code",
   "execution_count": 18,
   "metadata": {},
   "outputs": [
    {
     "name": "stdout",
     "output_type": "stream",
     "text": [
      "Before ['c:\\\\Users\\\\r2com\\\\Desktop\\\\PRACTICE', 'C:\\\\Program Files\\\\Python312\\\\python312.zip', 'C:\\\\Program Files\\\\Python312\\\\DLLs', 'C:\\\\Program Files\\\\Python312\\\\Lib', 'C:\\\\Program Files\\\\Python312', 'c:\\\\Users\\\\r2com\\\\Desktop\\\\PRACTICE\\\\.venv', '', 'c:\\\\Users\\\\r2com\\\\Desktop\\\\PRACTICE\\\\.venv\\\\Lib\\\\site-packages', 'c:\\\\Users\\\\r2com\\\\Desktop\\\\PRACTICE\\\\.venv\\\\Lib\\\\site-packages\\\\win32', 'c:\\\\Users\\\\r2com\\\\Desktop\\\\PRACTICE\\\\.venv\\\\Lib\\\\site-packages\\\\win32\\\\lib', 'c:\\\\Users\\\\r2com\\\\Desktop\\\\PRACTICE\\\\.venv\\\\Lib\\\\site-packages\\\\Pythonwin']\n",
      "<class 'list'>\n",
      "After: ['c:\\\\Users\\\\r2com\\\\Desktop\\\\PRACTICE', 'C:\\\\Program Files\\\\Python312\\\\python312.zip', 'C:\\\\Program Files\\\\Python312\\\\DLLs', 'C:\\\\Program Files\\\\Python312\\\\Lib', 'C:\\\\Program Files\\\\Python312', 'c:\\\\Users\\\\r2com\\\\Desktop\\\\PRACTICE\\\\.venv', '', 'c:\\\\Users\\\\r2com\\\\Desktop\\\\PRACTICE\\\\.venv\\\\Lib\\\\site-packages', 'c:\\\\Users\\\\r2com\\\\Desktop\\\\PRACTICE\\\\.venv\\\\Lib\\\\site-packages\\\\win32', 'c:\\\\Users\\\\r2com\\\\Desktop\\\\PRACTICE\\\\.venv\\\\Lib\\\\site-packages\\\\win32\\\\lib', 'c:\\\\Users\\\\r2com\\\\Desktop\\\\PRACTICE\\\\.venv\\\\Lib\\\\site-packages\\\\Pythonwin', '~/Documents/Github/sesac-practice']\n"
     ]
    }
   ],
   "source": [
    "import sys\n",
    "print(\"Before\", sys.path)\n",
    "print(type(sys.path))\n",
    "sys.path.append('~/Documents/Github/sesac-practice')\n",
    "\n",
    "print(\"After:\", sys.path)"
   ]
  },
  {
   "cell_type": "code",
   "execution_count": 19,
   "metadata": {},
   "outputs": [
    {
     "name": "stdout",
     "output_type": "stream",
     "text": [
      "c:\\Users\\r2com\\Desktop\\PRACTICE\n"
     ]
    }
   ],
   "source": [
    "import os\n",
    "\n",
    "current_directory = os.getcwd()\n",
    "print(current_directory)"
   ]
  },
  {
   "cell_type": "code",
   "execution_count": 20,
   "metadata": {},
   "outputs": [
    {
     "name": "stdout",
     "output_type": "stream",
     "text": [
      "['.venv', 'day.ipynb', 'decorator.ipynb', 'example.txt', 'fucntion.ipynb', 'hello_pikashu.py', 'id_practice.py', 'module_practice', 'module_practice.ipynb', 'notebook.ipynb', 'test.py', '자기소개서']\n"
     ]
    }
   ],
   "source": [
    "files = os.listdir('.')\n",
    "print(files)"
   ]
  },
  {
   "cell_type": "code",
   "execution_count": 21,
   "metadata": {},
   "outputs": [
    {
     "data": {
      "text/plain": [
       "0"
      ]
     },
     "execution_count": 21,
     "metadata": {},
     "output_type": "execute_result"
    }
   ],
   "source": [
    "os.system('echo Hello World')"
   ]
  },
  {
   "cell_type": "code",
   "execution_count": 22,
   "metadata": {},
   "outputs": [
    {
     "name": "stdout",
     "output_type": "stream",
     "text": [
      "environ({'ALLUSERSPROFILE': 'C:\\\\ProgramData', 'APPDATA': 'C:\\\\Users\\\\r2com\\\\AppData\\\\Roaming', 'CHROME_CRASHPAD_PIPE_NAME': '\\\\\\\\.\\\\pipe\\\\crashpad_6860_BLRQXASHQDTNWSZP', 'COMMONPROGRAMFILES': 'C:\\\\Program Files\\\\Common Files', 'COMMONPROGRAMFILES(X86)': 'C:\\\\Program Files (x86)\\\\Common Files', 'COMMONPROGRAMW6432': 'C:\\\\Program Files\\\\Common Files', 'COMPUTERNAME': 'DESKTOP-304U2MR', 'COMSPEC': 'C:\\\\Windows\\\\system32\\\\cmd.exe', 'DRIVERDATA': 'C:\\\\Windows\\\\System32\\\\Drivers\\\\DriverData', 'ELECTRON_NO_ATTACH_CONSOLE': '1', 'ELECTRON_RUN_AS_NODE': '1', 'FPS_BROWSER_APP_PROFILE_STRING': 'Internet Explorer', 'FPS_BROWSER_USER_PROFILE_STRING': 'Default', 'HOMEDRIVE': 'C:', 'HOMEPATH': '\\\\Users\\\\r2com', 'JPY_INTERRUPT_EVENT': '1936', 'LOCALAPPDATA': 'C:\\\\Users\\\\r2com\\\\AppData\\\\Local', 'LOGONSERVER': '\\\\\\\\DESKTOP-304U2MR', 'NUMBER_OF_PROCESSORS': '8', 'ONEDRIVE': 'C:\\\\Users\\\\r2com\\\\OneDrive', 'ORIGINAL_XDG_CURRENT_DESKTOP': 'undefined', 'OS': 'Windows_NT', 'PATH': 'c:\\\\Users\\\\r2com\\\\Desktop\\\\PRACTICE\\\\.venv\\\\Scripts;C:\\\\Program Files\\\\Python312\\\\Scripts\\\\;C:\\\\Program Files\\\\Python312\\\\;C:\\\\Windows\\\\system32;C:\\\\Windows;C:\\\\Windows\\\\System32\\\\Wbem;C:\\\\Windows\\\\System32\\\\WindowsPowerShell\\\\v1.0\\\\;C:\\\\Windows\\\\System32\\\\OpenSSH\\\\;C:\\\\Program Files\\\\Git\\\\cmd;C:\\\\Users\\\\r2com\\\\AppData\\\\Local\\\\Microsoft\\\\WindowsApps;C:\\\\Users\\\\r2com\\\\AppData\\\\Local\\\\Programs\\\\Microsoft VS Code\\\\bin;C:\\\\Users\\\\r2com\\\\AppData\\\\Local\\\\GitHubDesktop\\\\bin', 'PATHEXT': '.COM;.EXE;.BAT;.CMD;.VBS;.VBE;.JS;.JSE;.WSF;.WSH;.MSC;.PY;.PYW', 'PROCESSOR_ARCHITECTURE': 'AMD64', 'PROCESSOR_IDENTIFIER': 'Intel64 Family 6 Model 140 Stepping 1, GenuineIntel', 'PROCESSOR_LEVEL': '6', 'PROCESSOR_REVISION': '8c01', 'PROGRAMDATA': 'C:\\\\ProgramData', 'PROGRAMFILES': 'C:\\\\Program Files', 'PROGRAMFILES(X86)': 'C:\\\\Program Files (x86)', 'PROGRAMW6432': 'C:\\\\Program Files', 'PROMPT': '(.venv) $P$G', 'PSMODULEPATH': 'C:\\\\Program Files\\\\WindowsPowerShell\\\\Modules;C:\\\\Windows\\\\system32\\\\WindowsPowerShell\\\\v1.0\\\\Modules', 'PUBLIC': 'C:\\\\Users\\\\Public', 'PYDEVD_IPYTHON_COMPATIBLE_DEBUGGING': '1', 'PYTHONIOENCODING': 'utf-8', 'PYTHONUNBUFFERED': '1', 'SESSIONNAME': 'Console', 'SYSTEMDRIVE': 'C:', 'SYSTEMROOT': 'C:\\\\Windows', 'TEMP': 'C:\\\\Users\\\\r2com\\\\AppData\\\\Local\\\\Temp', 'TMP': 'C:\\\\Users\\\\r2com\\\\AppData\\\\Local\\\\Temp', 'USERDOMAIN': 'DESKTOP-304U2MR', 'USERDOMAIN_ROAMINGPROFILE': 'DESKTOP-304U2MR', 'USERNAME': 'r2com', 'USERPROFILE': 'C:\\\\Users\\\\r2com', 'VIRTUAL_ENV': 'c:\\\\Users\\\\r2com\\\\Desktop\\\\PRACTICE\\\\.venv', 'VIRTUAL_ENV_PROMPT': '(.venv) ', 'VSCODE_AMD_ENTRYPOINT': 'vs/workbench/api/node/extensionHostProcess', 'VSCODE_CLI': '1', 'VSCODE_CODE_CACHE_PATH': 'C:\\\\Users\\\\r2com\\\\AppData\\\\Roaming\\\\Code\\\\CachedData\\\\0ee08df0cf4527e40edc9aa28f4b5bd38bbff2b2', 'VSCODE_CRASH_REPORTER_PROCESS_TYPE': 'extensionHost', 'VSCODE_CWD': 'C:\\\\Users\\\\r2com\\\\Desktop\\\\PRACTICE', 'VSCODE_HANDLES_UNCAUGHT_ERRORS': 'true', 'VSCODE_IPC_HOOK': '\\\\\\\\.\\\\pipe\\\\d2323d8dd8daba6e4930d9904bf5b614-1.85.1-main-sock', 'VSCODE_NLS_CONFIG': '{\"locale\":\"en-us\",\"osLocale\":\"ko\",\"availableLanguages\":{},\"_languagePackSupport\":true}', 'VSCODE_PID': '6860', 'WINDIR': 'C:\\\\Windows', 'ZES_ENABLE_SYSMAN': '1', '_OLD_VIRTUAL_PATH': 'C:\\\\Program Files\\\\Python312\\\\Scripts\\\\;C:\\\\Program Files\\\\Python312\\\\;C:\\\\Windows\\\\system32;C:\\\\Windows;C:\\\\Windows\\\\System32\\\\Wbem;C:\\\\Windows\\\\System32\\\\WindowsPowerShell\\\\v1.0\\\\;C:\\\\Windows\\\\System32\\\\OpenSSH\\\\;C:\\\\Program Files\\\\Git\\\\cmd;C:\\\\Users\\\\r2com\\\\AppData\\\\Local\\\\Microsoft\\\\WindowsApps;C:\\\\Users\\\\r2com\\\\AppData\\\\Local\\\\Programs\\\\Microsoft VS Code\\\\bin;C:\\\\Users\\\\r2com\\\\AppData\\\\Local\\\\GitHubDesktop\\\\bin', '_OLD_VIRTUAL_PROMPT': '$P$G', 'PYDEVD_USE_FRAME_EVAL': 'NO', 'TERM': 'xterm-color', 'CLICOLOR': '1', 'FORCE_COLOR': '1', 'CLICOLOR_FORCE': '1', 'PAGER': 'cat', 'GIT_PAGER': 'cat', 'MPLBACKEND': 'module://matplotlib_inline.backend_inline'})\n",
      "c:\\Users\\r2com\\Desktop\\PRACTICE\\.venv\\Scripts;C:\\Program Files\\Python312\\Scripts\\;C:\\Program Files\\Python312\\;C:\\Windows\\system32;C:\\Windows;C:\\Windows\\System32\\Wbem;C:\\Windows\\System32\\WindowsPowerShell\\v1.0\\;C:\\Windows\\System32\\OpenSSH\\;C:\\Program Files\\Git\\cmd;C:\\Users\\r2com\\AppData\\Local\\Microsoft\\WindowsApps;C:\\Users\\r2com\\AppData\\Local\\Programs\\Microsoft VS Code\\bin;C:\\Users\\r2com\\AppData\\Local\\GitHubDesktop\\bin\n"
     ]
    }
   ],
   "source": [
    "print(os.environ)\n",
    "path_value = os.environ.get('PATH')\n",
    "print(path_value)"
   ]
  },
  {
   "cell_type": "code",
   "execution_count": 23,
   "metadata": {},
   "outputs": [
    {
     "name": "stdout",
     "output_type": "stream",
     "text": [
      "Hello World\n"
     ]
    }
   ],
   "source": [
    "!echo Hello World"
   ]
  },
  {
   "cell_type": "code",
   "execution_count": 24,
   "metadata": {},
   "outputs": [
    {
     "name": "stdout",
     "output_type": "stream",
     "text": [
      "5초 후에 출력됩니다.\n"
     ]
    }
   ],
   "source": [
    "import time\n",
    "time.sleep(5)\n",
    "print(\"5초 후에 출력됩니다.\")"
   ]
  },
  {
   "cell_type": "code",
   "execution_count": 25,
   "metadata": {},
   "outputs": [
    {
     "name": "stdout",
     "output_type": "stream",
     "text": [
      "1704960836.0863385\n"
     ]
    }
   ],
   "source": [
    "current_time = time.time()\n",
    "print(current_time)"
   ]
  },
  {
   "cell_type": "code",
   "execution_count": 26,
   "metadata": {},
   "outputs": [
    {
     "name": "stdout",
     "output_type": "stream",
     "text": [
      "2024-01-11 17:13:56\n"
     ]
    }
   ],
   "source": [
    "local_time = time.localtime()\n",
    "formatted_time = time.strftime(\"%Y-%m-%d %H:%M:%S\", local_time)\n",
    "# print(local_time)\n",
    "print(formatted_time)"
   ]
  },
  {
   "cell_type": "code",
   "execution_count": 27,
   "metadata": {},
   "outputs": [
    {
     "data": {
      "text/plain": [
       "time.struct_time(tm_year=1900, tm_mon=1, tm_mday=1, tm_hour=1, tm_min=12, tm_sec=0, tm_wday=0, tm_yday=1, tm_isdst=-1)"
      ]
     },
     "execution_count": 27,
     "metadata": {},
     "output_type": "execute_result"
    }
   ],
   "source": [
    "time.strptime('01시 12분', '%H시 %M분')"
   ]
  },
  {
   "cell_type": "code",
   "execution_count": 5,
   "metadata": {},
   "outputs": [
    {
     "name": "stdout",
     "output_type": "stream",
     "text": [
      "2024-01-12 11:15:51.717972\n"
     ]
    }
   ],
   "source": [
    "from datetime import datetime\n",
    "\n",
    "now = datetime.now()\n",
    "print(now)"
   ]
  },
  {
   "cell_type": "code",
   "execution_count": 13,
   "metadata": {},
   "outputs": [
    {
     "data": {
      "text/plain": [
       "12387"
      ]
     },
     "execution_count": 13,
     "metadata": {},
     "output_type": "execute_result"
    }
   ],
   "source": [
    "from datetime import datetime\n",
    "\n",
    "def calculate_days_since_birth(birth_date):\n",
    "    now = datetime.now()\n",
    "    birth_date = datetime.strptime(birth_date, \"%Y-%m-%d\")\n",
    "    return (now-birth_date).days\n",
    "\n",
    "calculate_days_since_birth('1990-02-12')"
   ]
  },
  {
   "cell_type": "code",
   "execution_count": 29,
   "metadata": {},
   "outputs": [
    {
     "name": "stdout",
     "output_type": "stream",
     "text": [
      "2021-01-01 12:00:01.000001\n"
     ]
    }
   ],
   "source": [
    "specific_time = datetime(2021, 1, 1, 12, 0, 1, 1)\n",
    "print(specific_time)"
   ]
  },
  {
   "cell_type": "code",
   "execution_count": 30,
   "metadata": {},
   "outputs": [
    {
     "name": "stdout",
     "output_type": "stream",
     "text": [
      "2024-01-11\n",
      "2021-01-01\n"
     ]
    }
   ],
   "source": [
    "from datetime import date\n",
    "\n",
    "today = date.today()\n",
    "print(today)\n",
    "\n",
    "specific_date = date(2021, 1, 1)\n",
    "print(specific_date)"
   ]
  },
  {
   "cell_type": "code",
   "execution_count": 31,
   "metadata": {},
   "outputs": [
    {
     "name": "stdout",
     "output_type": "stream",
     "text": [
      "2024-01-18\n",
      "2024-01-10\n"
     ]
    }
   ],
   "source": [
    "from datetime import timedelta\n",
    "\n",
    "one_week_later = today + timedelta(days=7)\n",
    "print(one_week_later)\n",
    "\n",
    "yesterday = today - timedelta(1)\n",
    "print(yesterday)"
   ]
  },
  {
   "cell_type": "code",
   "execution_count": 32,
   "metadata": {},
   "outputs": [
    {
     "name": "stdout",
     "output_type": "stream",
     "text": [
      "2024-01-11 17:13:56\n",
      "2021-01-01 12:00:00\n",
      "<class 'str'>\n",
      "<class 'str'>\n",
      "<class 'datetime.datetime'>\n"
     ]
    }
   ],
   "source": [
    "formatted_date = now.strftime(\"%Y-%m-%d %H:%M:%S\")\n",
    "print(formatted_date)\n",
    "\n",
    "date_from_string = datetime.strptime(\"2021-01-01 12:00:00\", \"%Y-%m-%d %H:%M:%S\")\n",
    "print(date_from_string)\n",
    "\n",
    "print(type(\"2021-01-01 12:00:00\"))\n",
    "print(type(formatted_date))\n",
    "print(type(date_from_string))"
   ]
  },
  {
   "cell_type": "code",
   "execution_count": 33,
   "metadata": {},
   "outputs": [
    {
     "name": "stdout",
     "output_type": "stream",
     "text": [
      "The Zen of Python, by Tim Peters\n",
      "\n",
      "Beautiful is better than ugly.\n",
      "Explicit is better than implicit.\n",
      "Simple is better than complex.\n",
      "Complex is better than complicated.\n",
      "Flat is better than nested.\n",
      "Sparse is better than dense.\n",
      "Readability counts.\n",
      "Special cases aren't special enough to break the rules.\n",
      "Although practicality beats purity.\n",
      "Errors should never pass silently.\n",
      "Unless explicitly silenced.\n",
      "In the face of ambiguity, refuse the temptation to guess.\n",
      "There should be one-- and preferably only one --obvious way to do it.\n",
      "Although that way may not be obvious at first unless you're Dutch.\n",
      "Now is better than never.\n",
      "Although never is often better than *right* now.\n",
      "If the implementation is hard to explain, it's a bad idea.\n",
      "If the implementation is easy to explain, it may be a good idea.\n",
      "Namespaces are one honking great idea -- let's do more of those!\n"
     ]
    }
   ],
   "source": [
    "import this"
   ]
  },
  {
   "cell_type": "code",
   "execution_count": 34,
   "metadata": {},
   "outputs": [
    {
     "data": {
      "text/plain": [
       "{'__name__': '__main__',\n",
       " '__doc__': 'Automatically created module for IPython interactive environment',\n",
       " '__package__': None,\n",
       " '__loader__': None,\n",
       " '__spec__': None,\n",
       " '__builtin__': <module 'builtins' (built-in)>,\n",
       " '__builtins__': <module 'builtins' (built-in)>,\n",
       " '_ih': ['',\n",
       "  'globals()',\n",
       "  \"a = 10\\nb = 20\\nuser_variables = {key: value for key, value in globals().items() if not key.startswith('__') and not callable(value)}\\nprint(user_variables)\",\n",
       "  \"a = 10\\nb = 20\\nuser_variables = {key: value for key, value in globals().items() if not key.startswith('__') and not callable(value)}\\nprint(*user_variables, sep='\\\\n')\",\n",
       "  'import math\\nprint(math.sqrt(16))',\n",
       "  'print(math.pow(2, 3))',\n",
       "  'print(math.log(10))\\nprint(math.log(100, 10))',\n",
       "  'import random\\nprint(random.randint(1, 10))',\n",
       "  \"itmes = ['삼성', '애플', '구글']\\nprint(random.choice(itmes))\",\n",
       "  'numbers = [1, 2, 3, 4, 5]\\nrandom.shuffle(numbers)\\nprint(numbers)',\n",
       "  'print(random.random())',\n",
       "  \"print(random.choices(['삼성', '애플', '구글'], weights=[3, 1, 1], k=2))\",\n",
       "  \"print(random.sample(['삼성', '애플', '구글', '카카오', '네이버'],  2))\\nprint(random.sample(['삼성', '애플', '구글', '카카오', '네이버'],  2, counts=[1,1,1,1,10000000]))\",\n",
       "  'from collections import Counter\\n\\nchar_count = Counter(\"Samsung\")\\nprint(char_count)',\n",
       "  \"word_count = Counter(['삼성', '애플', '삼성', '아마존', '애플', '삼성', '네이버', '네이버', '네이버'])\\nprint(word_count)\\n\\nprint(word_count.most_common(1))\\nprint(word_count.most_common(2))\\n\\nprint(word_count['애플'])\\n\\nprint(sum(word_count.values()))\",\n",
       "  \"import pandas as pd\\ndf = pd.DataFrame({'num_legs': [2, 4, 8, 0],\\n                   'num_wings': [2, 0, 0, 0],\\n                   'num_specimen_seen': [10, 2, 1, 8]},\\n                   index=['falcon', 'dog', 'spider', 'fish'])\\ndf\",\n",
       "  \"df['num_legs'].sample(n=2, weights=[1,1,1,100000000000000000000], random_state=1)\",\n",
       "  \"df.sample(n=2, weights='num_specimen_seen', random_state=1)\",\n",
       "  'import sys\\nprint(\"Before\", sys.path)\\nprint(type(sys.path))\\nsys.path.append(\\'~/Documents/Github/sesac-practice\\')\\n\\nprint(\"After:\", sys.path)',\n",
       "  'import os\\n\\ncurrent_directory = os.getcwd()\\nprint(current_directory)',\n",
       "  \"files = os.listdir('.')\\nprint(files)\",\n",
       "  \"os.system('echo Hello World')\",\n",
       "  \"print(os.environ)\\npath_value = os.environ.get('PATH')\\nprint(path_value)\",\n",
       "  \"get_ipython().system('echo Hello World')\",\n",
       "  'import time\\ntime.sleep(5)\\nprint(\"5초 후에 출력됩니다.\")',\n",
       "  'current_time = time.time()\\nprint(current_time)',\n",
       "  'local_time = time.localtime()\\nformatted_time = time.strftime(\"%Y-%m-%d %H:%M:%S\", local_time)\\n# print(local_time)\\nprint(formatted_time)',\n",
       "  \"time.strptime('01시 12분', '%H시 %M분')\",\n",
       "  'from datetime import datetime\\n\\nnow = datetime.now()\\nprint(now)',\n",
       "  'specific_time = datetime(2021, 1, 1, 12, 0, 1, 1)\\nprint(specific_time)',\n",
       "  'from datetime import date\\n\\ntoday = date.today()\\nprint(today)\\n\\nspecific_date = date(2021, 1, 1)\\nprint(specific_date)',\n",
       "  'from datetime import timedelta\\n\\none_week_later = today + timedelta(days=7)\\nprint(one_week_later)\\n\\nyesterday = today - timedelta(1)\\nprint(yesterday)',\n",
       "  'formatted_date = now.strftime(\"%Y-%m-%d %H:%M:%S\")\\nprint(formatted_date)\\n\\ndate_from_string = datetime.strptime(\"2021-01-01 12:00:00\", \"%Y-%m-%d %H:%M:%S\")\\nprint(date_from_string)\\n\\nprint(type(\"2021-01-01 12:00:00\"))\\nprint(type(formatted_date))\\nprint(type(date_from_string))',\n",
       "  'import this',\n",
       "  'globals()'],\n",
       " '_oh': {1: {...},\n",
       "  15:         num_legs  num_wings  num_specimen_seen\n",
       "  falcon         2          2                 10\n",
       "  dog            4          0                  2\n",
       "  spider         8          0                  1\n",
       "  fish           0          0                  8,\n",
       "  16: fish      0\n",
       "  falcon    2\n",
       "  Name: num_legs, dtype: int64,\n",
       "  17:         num_legs  num_wings  num_specimen_seen\n",
       "  falcon         2          2                 10\n",
       "  fish           0          0                  8,\n",
       "  21: 0,\n",
       "  27: time.struct_time(tm_year=1900, tm_mon=1, tm_mday=1, tm_hour=1, tm_min=12, tm_sec=0, tm_wday=0, tm_yday=1, tm_isdst=-1)},\n",
       " '_dh': [WindowsPath('c:/Users/r2com/Desktop/PRACTICE'),\n",
       "  WindowsPath('c:/Users/r2com/Desktop/PRACTICE')],\n",
       " 'In': ['',\n",
       "  'globals()',\n",
       "  \"a = 10\\nb = 20\\nuser_variables = {key: value for key, value in globals().items() if not key.startswith('__') and not callable(value)}\\nprint(user_variables)\",\n",
       "  \"a = 10\\nb = 20\\nuser_variables = {key: value for key, value in globals().items() if not key.startswith('__') and not callable(value)}\\nprint(*user_variables, sep='\\\\n')\",\n",
       "  'import math\\nprint(math.sqrt(16))',\n",
       "  'print(math.pow(2, 3))',\n",
       "  'print(math.log(10))\\nprint(math.log(100, 10))',\n",
       "  'import random\\nprint(random.randint(1, 10))',\n",
       "  \"itmes = ['삼성', '애플', '구글']\\nprint(random.choice(itmes))\",\n",
       "  'numbers = [1, 2, 3, 4, 5]\\nrandom.shuffle(numbers)\\nprint(numbers)',\n",
       "  'print(random.random())',\n",
       "  \"print(random.choices(['삼성', '애플', '구글'], weights=[3, 1, 1], k=2))\",\n",
       "  \"print(random.sample(['삼성', '애플', '구글', '카카오', '네이버'],  2))\\nprint(random.sample(['삼성', '애플', '구글', '카카오', '네이버'],  2, counts=[1,1,1,1,10000000]))\",\n",
       "  'from collections import Counter\\n\\nchar_count = Counter(\"Samsung\")\\nprint(char_count)',\n",
       "  \"word_count = Counter(['삼성', '애플', '삼성', '아마존', '애플', '삼성', '네이버', '네이버', '네이버'])\\nprint(word_count)\\n\\nprint(word_count.most_common(1))\\nprint(word_count.most_common(2))\\n\\nprint(word_count['애플'])\\n\\nprint(sum(word_count.values()))\",\n",
       "  \"import pandas as pd\\ndf = pd.DataFrame({'num_legs': [2, 4, 8, 0],\\n                   'num_wings': [2, 0, 0, 0],\\n                   'num_specimen_seen': [10, 2, 1, 8]},\\n                   index=['falcon', 'dog', 'spider', 'fish'])\\ndf\",\n",
       "  \"df['num_legs'].sample(n=2, weights=[1,1,1,100000000000000000000], random_state=1)\",\n",
       "  \"df.sample(n=2, weights='num_specimen_seen', random_state=1)\",\n",
       "  'import sys\\nprint(\"Before\", sys.path)\\nprint(type(sys.path))\\nsys.path.append(\\'~/Documents/Github/sesac-practice\\')\\n\\nprint(\"After:\", sys.path)',\n",
       "  'import os\\n\\ncurrent_directory = os.getcwd()\\nprint(current_directory)',\n",
       "  \"files = os.listdir('.')\\nprint(files)\",\n",
       "  \"os.system('echo Hello World')\",\n",
       "  \"print(os.environ)\\npath_value = os.environ.get('PATH')\\nprint(path_value)\",\n",
       "  \"get_ipython().system('echo Hello World')\",\n",
       "  'import time\\ntime.sleep(5)\\nprint(\"5초 후에 출력됩니다.\")',\n",
       "  'current_time = time.time()\\nprint(current_time)',\n",
       "  'local_time = time.localtime()\\nformatted_time = time.strftime(\"%Y-%m-%d %H:%M:%S\", local_time)\\n# print(local_time)\\nprint(formatted_time)',\n",
       "  \"time.strptime('01시 12분', '%H시 %M분')\",\n",
       "  'from datetime import datetime\\n\\nnow = datetime.now()\\nprint(now)',\n",
       "  'specific_time = datetime(2021, 1, 1, 12, 0, 1, 1)\\nprint(specific_time)',\n",
       "  'from datetime import date\\n\\ntoday = date.today()\\nprint(today)\\n\\nspecific_date = date(2021, 1, 1)\\nprint(specific_date)',\n",
       "  'from datetime import timedelta\\n\\none_week_later = today + timedelta(days=7)\\nprint(one_week_later)\\n\\nyesterday = today - timedelta(1)\\nprint(yesterday)',\n",
       "  'formatted_date = now.strftime(\"%Y-%m-%d %H:%M:%S\")\\nprint(formatted_date)\\n\\ndate_from_string = datetime.strptime(\"2021-01-01 12:00:00\", \"%Y-%m-%d %H:%M:%S\")\\nprint(date_from_string)\\n\\nprint(type(\"2021-01-01 12:00:00\"))\\nprint(type(formatted_date))\\nprint(type(date_from_string))',\n",
       "  'import this',\n",
       "  'globals()'],\n",
       " 'Out': {1: {...},\n",
       "  15:         num_legs  num_wings  num_specimen_seen\n",
       "  falcon         2          2                 10\n",
       "  dog            4          0                  2\n",
       "  spider         8          0                  1\n",
       "  fish           0          0                  8,\n",
       "  16: fish      0\n",
       "  falcon    2\n",
       "  Name: num_legs, dtype: int64,\n",
       "  17:         num_legs  num_wings  num_specimen_seen\n",
       "  falcon         2          2                 10\n",
       "  fish           0          0                  8,\n",
       "  21: 0,\n",
       "  27: time.struct_time(tm_year=1900, tm_mon=1, tm_mday=1, tm_hour=1, tm_min=12, tm_sec=0, tm_wday=0, tm_yday=1, tm_isdst=-1)},\n",
       " 'get_ipython': <bound method InteractiveShell.get_ipython of <ipykernel.zmqshell.ZMQInteractiveShell object at 0x00000158C2684B90>>,\n",
       " 'exit': <IPython.core.autocall.ZMQExitAutocall at 0x158c2686f60>,\n",
       " 'quit': <IPython.core.autocall.ZMQExitAutocall at 0x158c2686f60>,\n",
       " 'open': <function _io.open(file, mode='r', buffering=-1, encoding=None, errors=None, newline=None, closefd=True, opener=None)>,\n",
       " '_': time.struct_time(tm_year=1900, tm_mon=1, tm_mday=1, tm_hour=1, tm_min=12, tm_sec=0, tm_wday=0, tm_yday=1, tm_isdst=-1),\n",
       " '__': 0,\n",
       " '___':         num_legs  num_wings  num_specimen_seen\n",
       " falcon         2          2                 10\n",
       " fish           0          0                  8,\n",
       " '__vsc_ipynb_file__': 'c:\\\\Users\\\\r2com\\\\Desktop\\\\PRACTICE\\\\module_practice.ipynb',\n",
       " '_i': 'import this',\n",
       " '_ii': 'formatted_date = now.strftime(\"%Y-%m-%d %H:%M:%S\")\\nprint(formatted_date)\\n\\ndate_from_string = datetime.strptime(\"2021-01-01 12:00:00\", \"%Y-%m-%d %H:%M:%S\")\\nprint(date_from_string)\\n\\nprint(type(\"2021-01-01 12:00:00\"))\\nprint(type(formatted_date))\\nprint(type(date_from_string))',\n",
       " '_iii': 'from datetime import timedelta\\n\\none_week_later = today + timedelta(days=7)\\nprint(one_week_later)\\n\\nyesterday = today - timedelta(1)\\nprint(yesterday)',\n",
       " '_i1': 'globals()',\n",
       " '_1': {...},\n",
       " '_i2': \"a = 10\\nb = 20\\nuser_variables = {key: value for key, value in globals().items() if not key.startswith('__') and not callable(value)}\\nprint(user_variables)\",\n",
       " 'a': 10,\n",
       " 'b': 20,\n",
       " 'user_variables': {'_ih': ['',\n",
       "   'globals()',\n",
       "   \"a = 10\\nb = 20\\nuser_variables = {key: value for key, value in globals().items() if not key.startswith('__') and not callable(value)}\\nprint(user_variables)\",\n",
       "   \"a = 10\\nb = 20\\nuser_variables = {key: value for key, value in globals().items() if not key.startswith('__') and not callable(value)}\\nprint(*user_variables, sep='\\\\n')\",\n",
       "   'import math\\nprint(math.sqrt(16))',\n",
       "   'print(math.pow(2, 3))',\n",
       "   'print(math.log(10))\\nprint(math.log(100, 10))',\n",
       "   'import random\\nprint(random.randint(1, 10))',\n",
       "   \"itmes = ['삼성', '애플', '구글']\\nprint(random.choice(itmes))\",\n",
       "   'numbers = [1, 2, 3, 4, 5]\\nrandom.shuffle(numbers)\\nprint(numbers)',\n",
       "   'print(random.random())',\n",
       "   \"print(random.choices(['삼성', '애플', '구글'], weights=[3, 1, 1], k=2))\",\n",
       "   \"print(random.sample(['삼성', '애플', '구글', '카카오', '네이버'],  2))\\nprint(random.sample(['삼성', '애플', '구글', '카카오', '네이버'],  2, counts=[1,1,1,1,10000000]))\",\n",
       "   'from collections import Counter\\n\\nchar_count = Counter(\"Samsung\")\\nprint(char_count)',\n",
       "   \"word_count = Counter(['삼성', '애플', '삼성', '아마존', '애플', '삼성', '네이버', '네이버', '네이버'])\\nprint(word_count)\\n\\nprint(word_count.most_common(1))\\nprint(word_count.most_common(2))\\n\\nprint(word_count['애플'])\\n\\nprint(sum(word_count.values()))\",\n",
       "   \"import pandas as pd\\ndf = pd.DataFrame({'num_legs': [2, 4, 8, 0],\\n                   'num_wings': [2, 0, 0, 0],\\n                   'num_specimen_seen': [10, 2, 1, 8]},\\n                   index=['falcon', 'dog', 'spider', 'fish'])\\ndf\",\n",
       "   \"df['num_legs'].sample(n=2, weights=[1,1,1,100000000000000000000], random_state=1)\",\n",
       "   \"df.sample(n=2, weights='num_specimen_seen', random_state=1)\",\n",
       "   'import sys\\nprint(\"Before\", sys.path)\\nprint(type(sys.path))\\nsys.path.append(\\'~/Documents/Github/sesac-practice\\')\\n\\nprint(\"After:\", sys.path)',\n",
       "   'import os\\n\\ncurrent_directory = os.getcwd()\\nprint(current_directory)',\n",
       "   \"files = os.listdir('.')\\nprint(files)\",\n",
       "   \"os.system('echo Hello World')\",\n",
       "   \"print(os.environ)\\npath_value = os.environ.get('PATH')\\nprint(path_value)\",\n",
       "   \"get_ipython().system('echo Hello World')\",\n",
       "   'import time\\ntime.sleep(5)\\nprint(\"5초 후에 출력됩니다.\")',\n",
       "   'current_time = time.time()\\nprint(current_time)',\n",
       "   'local_time = time.localtime()\\nformatted_time = time.strftime(\"%Y-%m-%d %H:%M:%S\", local_time)\\n# print(local_time)\\nprint(formatted_time)',\n",
       "   \"time.strptime('01시 12분', '%H시 %M분')\",\n",
       "   'from datetime import datetime\\n\\nnow = datetime.now()\\nprint(now)',\n",
       "   'specific_time = datetime(2021, 1, 1, 12, 0, 1, 1)\\nprint(specific_time)',\n",
       "   'from datetime import date\\n\\ntoday = date.today()\\nprint(today)\\n\\nspecific_date = date(2021, 1, 1)\\nprint(specific_date)',\n",
       "   'from datetime import timedelta\\n\\none_week_later = today + timedelta(days=7)\\nprint(one_week_later)\\n\\nyesterday = today - timedelta(1)\\nprint(yesterday)',\n",
       "   'formatted_date = now.strftime(\"%Y-%m-%d %H:%M:%S\")\\nprint(formatted_date)\\n\\ndate_from_string = datetime.strptime(\"2021-01-01 12:00:00\", \"%Y-%m-%d %H:%M:%S\")\\nprint(date_from_string)\\n\\nprint(type(\"2021-01-01 12:00:00\"))\\nprint(type(formatted_date))\\nprint(type(date_from_string))',\n",
       "   'import this',\n",
       "   'globals()'],\n",
       "  '_oh': {1: {...},\n",
       "   15:         num_legs  num_wings  num_specimen_seen\n",
       "   falcon         2          2                 10\n",
       "   dog            4          0                  2\n",
       "   spider         8          0                  1\n",
       "   fish           0          0                  8,\n",
       "   16: fish      0\n",
       "   falcon    2\n",
       "   Name: num_legs, dtype: int64,\n",
       "   17:         num_legs  num_wings  num_specimen_seen\n",
       "   falcon         2          2                 10\n",
       "   fish           0          0                  8,\n",
       "   21: 0,\n",
       "   27: time.struct_time(tm_year=1900, tm_mon=1, tm_mday=1, tm_hour=1, tm_min=12, tm_sec=0, tm_wday=0, tm_yday=1, tm_isdst=-1)},\n",
       "  '_dh': [WindowsPath('c:/Users/r2com/Desktop/PRACTICE'),\n",
       "   WindowsPath('c:/Users/r2com/Desktop/PRACTICE')],\n",
       "  'In': ['',\n",
       "   'globals()',\n",
       "   \"a = 10\\nb = 20\\nuser_variables = {key: value for key, value in globals().items() if not key.startswith('__') and not callable(value)}\\nprint(user_variables)\",\n",
       "   \"a = 10\\nb = 20\\nuser_variables = {key: value for key, value in globals().items() if not key.startswith('__') and not callable(value)}\\nprint(*user_variables, sep='\\\\n')\",\n",
       "   'import math\\nprint(math.sqrt(16))',\n",
       "   'print(math.pow(2, 3))',\n",
       "   'print(math.log(10))\\nprint(math.log(100, 10))',\n",
       "   'import random\\nprint(random.randint(1, 10))',\n",
       "   \"itmes = ['삼성', '애플', '구글']\\nprint(random.choice(itmes))\",\n",
       "   'numbers = [1, 2, 3, 4, 5]\\nrandom.shuffle(numbers)\\nprint(numbers)',\n",
       "   'print(random.random())',\n",
       "   \"print(random.choices(['삼성', '애플', '구글'], weights=[3, 1, 1], k=2))\",\n",
       "   \"print(random.sample(['삼성', '애플', '구글', '카카오', '네이버'],  2))\\nprint(random.sample(['삼성', '애플', '구글', '카카오', '네이버'],  2, counts=[1,1,1,1,10000000]))\",\n",
       "   'from collections import Counter\\n\\nchar_count = Counter(\"Samsung\")\\nprint(char_count)',\n",
       "   \"word_count = Counter(['삼성', '애플', '삼성', '아마존', '애플', '삼성', '네이버', '네이버', '네이버'])\\nprint(word_count)\\n\\nprint(word_count.most_common(1))\\nprint(word_count.most_common(2))\\n\\nprint(word_count['애플'])\\n\\nprint(sum(word_count.values()))\",\n",
       "   \"import pandas as pd\\ndf = pd.DataFrame({'num_legs': [2, 4, 8, 0],\\n                   'num_wings': [2, 0, 0, 0],\\n                   'num_specimen_seen': [10, 2, 1, 8]},\\n                   index=['falcon', 'dog', 'spider', 'fish'])\\ndf\",\n",
       "   \"df['num_legs'].sample(n=2, weights=[1,1,1,100000000000000000000], random_state=1)\",\n",
       "   \"df.sample(n=2, weights='num_specimen_seen', random_state=1)\",\n",
       "   'import sys\\nprint(\"Before\", sys.path)\\nprint(type(sys.path))\\nsys.path.append(\\'~/Documents/Github/sesac-practice\\')\\n\\nprint(\"After:\", sys.path)',\n",
       "   'import os\\n\\ncurrent_directory = os.getcwd()\\nprint(current_directory)',\n",
       "   \"files = os.listdir('.')\\nprint(files)\",\n",
       "   \"os.system('echo Hello World')\",\n",
       "   \"print(os.environ)\\npath_value = os.environ.get('PATH')\\nprint(path_value)\",\n",
       "   \"get_ipython().system('echo Hello World')\",\n",
       "   'import time\\ntime.sleep(5)\\nprint(\"5초 후에 출력됩니다.\")',\n",
       "   'current_time = time.time()\\nprint(current_time)',\n",
       "   'local_time = time.localtime()\\nformatted_time = time.strftime(\"%Y-%m-%d %H:%M:%S\", local_time)\\n# print(local_time)\\nprint(formatted_time)',\n",
       "   \"time.strptime('01시 12분', '%H시 %M분')\",\n",
       "   'from datetime import datetime\\n\\nnow = datetime.now()\\nprint(now)',\n",
       "   'specific_time = datetime(2021, 1, 1, 12, 0, 1, 1)\\nprint(specific_time)',\n",
       "   'from datetime import date\\n\\ntoday = date.today()\\nprint(today)\\n\\nspecific_date = date(2021, 1, 1)\\nprint(specific_date)',\n",
       "   'from datetime import timedelta\\n\\none_week_later = today + timedelta(days=7)\\nprint(one_week_later)\\n\\nyesterday = today - timedelta(1)\\nprint(yesterday)',\n",
       "   'formatted_date = now.strftime(\"%Y-%m-%d %H:%M:%S\")\\nprint(formatted_date)\\n\\ndate_from_string = datetime.strptime(\"2021-01-01 12:00:00\", \"%Y-%m-%d %H:%M:%S\")\\nprint(date_from_string)\\n\\nprint(type(\"2021-01-01 12:00:00\"))\\nprint(type(formatted_date))\\nprint(type(date_from_string))',\n",
       "   'import this',\n",
       "   'globals()'],\n",
       "  'Out': {1: {...},\n",
       "   15:         num_legs  num_wings  num_specimen_seen\n",
       "   falcon         2          2                 10\n",
       "   dog            4          0                  2\n",
       "   spider         8          0                  1\n",
       "   fish           0          0                  8,\n",
       "   16: fish      0\n",
       "   falcon    2\n",
       "   Name: num_legs, dtype: int64,\n",
       "   17:         num_legs  num_wings  num_specimen_seen\n",
       "   falcon         2          2                 10\n",
       "   fish           0          0                  8,\n",
       "   21: 0,\n",
       "   27: time.struct_time(tm_year=1900, tm_mon=1, tm_mday=1, tm_hour=1, tm_min=12, tm_sec=0, tm_wday=0, tm_yday=1, tm_isdst=-1)},\n",
       "  '_': {...},\n",
       "  '_i': \"a = 10\\nb = 20\\nuser_variables = {key: value for key, value in globals().items() if not key.startswith('__') and not callable(value)}\\nprint(user_variables)\",\n",
       "  '_ii': 'globals()',\n",
       "  '_iii': '',\n",
       "  '_i1': 'globals()',\n",
       "  '_1': {...},\n",
       "  '_i2': \"a = 10\\nb = 20\\nuser_variables = {key: value for key, value in globals().items() if not key.startswith('__') and not callable(value)}\\nprint(user_variables)\",\n",
       "  'a': 10,\n",
       "  'b': 20,\n",
       "  'user_variables': {'_ih': ['',\n",
       "    'globals()',\n",
       "    \"a = 10\\nb = 20\\nuser_variables = {key: value for key, value in globals().items() if not key.startswith('__') and not callable(value)}\\nprint(user_variables)\",\n",
       "    \"a = 10\\nb = 20\\nuser_variables = {key: value for key, value in globals().items() if not key.startswith('__') and not callable(value)}\\nprint(*user_variables, sep='\\\\n')\",\n",
       "    'import math\\nprint(math.sqrt(16))',\n",
       "    'print(math.pow(2, 3))',\n",
       "    'print(math.log(10))\\nprint(math.log(100, 10))',\n",
       "    'import random\\nprint(random.randint(1, 10))',\n",
       "    \"itmes = ['삼성', '애플', '구글']\\nprint(random.choice(itmes))\",\n",
       "    'numbers = [1, 2, 3, 4, 5]\\nrandom.shuffle(numbers)\\nprint(numbers)',\n",
       "    'print(random.random())',\n",
       "    \"print(random.choices(['삼성', '애플', '구글'], weights=[3, 1, 1], k=2))\",\n",
       "    \"print(random.sample(['삼성', '애플', '구글', '카카오', '네이버'],  2))\\nprint(random.sample(['삼성', '애플', '구글', '카카오', '네이버'],  2, counts=[1,1,1,1,10000000]))\",\n",
       "    'from collections import Counter\\n\\nchar_count = Counter(\"Samsung\")\\nprint(char_count)',\n",
       "    \"word_count = Counter(['삼성', '애플', '삼성', '아마존', '애플', '삼성', '네이버', '네이버', '네이버'])\\nprint(word_count)\\n\\nprint(word_count.most_common(1))\\nprint(word_count.most_common(2))\\n\\nprint(word_count['애플'])\\n\\nprint(sum(word_count.values()))\",\n",
       "    \"import pandas as pd\\ndf = pd.DataFrame({'num_legs': [2, 4, 8, 0],\\n                   'num_wings': [2, 0, 0, 0],\\n                   'num_specimen_seen': [10, 2, 1, 8]},\\n                   index=['falcon', 'dog', 'spider', 'fish'])\\ndf\",\n",
       "    \"df['num_legs'].sample(n=2, weights=[1,1,1,100000000000000000000], random_state=1)\",\n",
       "    \"df.sample(n=2, weights='num_specimen_seen', random_state=1)\",\n",
       "    'import sys\\nprint(\"Before\", sys.path)\\nprint(type(sys.path))\\nsys.path.append(\\'~/Documents/Github/sesac-practice\\')\\n\\nprint(\"After:\", sys.path)',\n",
       "    'import os\\n\\ncurrent_directory = os.getcwd()\\nprint(current_directory)',\n",
       "    \"files = os.listdir('.')\\nprint(files)\",\n",
       "    \"os.system('echo Hello World')\",\n",
       "    \"print(os.environ)\\npath_value = os.environ.get('PATH')\\nprint(path_value)\",\n",
       "    \"get_ipython().system('echo Hello World')\",\n",
       "    'import time\\ntime.sleep(5)\\nprint(\"5초 후에 출력됩니다.\")',\n",
       "    'current_time = time.time()\\nprint(current_time)',\n",
       "    'local_time = time.localtime()\\nformatted_time = time.strftime(\"%Y-%m-%d %H:%M:%S\", local_time)\\n# print(local_time)\\nprint(formatted_time)',\n",
       "    \"time.strptime('01시 12분', '%H시 %M분')\",\n",
       "    'from datetime import datetime\\n\\nnow = datetime.now()\\nprint(now)',\n",
       "    'specific_time = datetime(2021, 1, 1, 12, 0, 1, 1)\\nprint(specific_time)',\n",
       "    'from datetime import date\\n\\ntoday = date.today()\\nprint(today)\\n\\nspecific_date = date(2021, 1, 1)\\nprint(specific_date)',\n",
       "    'from datetime import timedelta\\n\\none_week_later = today + timedelta(days=7)\\nprint(one_week_later)\\n\\nyesterday = today - timedelta(1)\\nprint(yesterday)',\n",
       "    'formatted_date = now.strftime(\"%Y-%m-%d %H:%M:%S\")\\nprint(formatted_date)\\n\\ndate_from_string = datetime.strptime(\"2021-01-01 12:00:00\", \"%Y-%m-%d %H:%M:%S\")\\nprint(date_from_string)\\n\\nprint(type(\"2021-01-01 12:00:00\"))\\nprint(type(formatted_date))\\nprint(type(date_from_string))',\n",
       "    'import this',\n",
       "    'globals()'],\n",
       "   '_oh': {1: {...},\n",
       "    15:         num_legs  num_wings  num_specimen_seen\n",
       "    falcon         2          2                 10\n",
       "    dog            4          0                  2\n",
       "    spider         8          0                  1\n",
       "    fish           0          0                  8,\n",
       "    16: fish      0\n",
       "    falcon    2\n",
       "    Name: num_legs, dtype: int64,\n",
       "    17:         num_legs  num_wings  num_specimen_seen\n",
       "    falcon         2          2                 10\n",
       "    fish           0          0                  8,\n",
       "    21: 0,\n",
       "    27: time.struct_time(tm_year=1900, tm_mon=1, tm_mday=1, tm_hour=1, tm_min=12, tm_sec=0, tm_wday=0, tm_yday=1, tm_isdst=-1)},\n",
       "   '_dh': [WindowsPath('c:/Users/r2com/Desktop/PRACTICE'),\n",
       "    WindowsPath('c:/Users/r2com/Desktop/PRACTICE')],\n",
       "   'In': ['',\n",
       "    'globals()',\n",
       "    \"a = 10\\nb = 20\\nuser_variables = {key: value for key, value in globals().items() if not key.startswith('__') and not callable(value)}\\nprint(user_variables)\",\n",
       "    \"a = 10\\nb = 20\\nuser_variables = {key: value for key, value in globals().items() if not key.startswith('__') and not callable(value)}\\nprint(*user_variables, sep='\\\\n')\",\n",
       "    'import math\\nprint(math.sqrt(16))',\n",
       "    'print(math.pow(2, 3))',\n",
       "    'print(math.log(10))\\nprint(math.log(100, 10))',\n",
       "    'import random\\nprint(random.randint(1, 10))',\n",
       "    \"itmes = ['삼성', '애플', '구글']\\nprint(random.choice(itmes))\",\n",
       "    'numbers = [1, 2, 3, 4, 5]\\nrandom.shuffle(numbers)\\nprint(numbers)',\n",
       "    'print(random.random())',\n",
       "    \"print(random.choices(['삼성', '애플', '구글'], weights=[3, 1, 1], k=2))\",\n",
       "    \"print(random.sample(['삼성', '애플', '구글', '카카오', '네이버'],  2))\\nprint(random.sample(['삼성', '애플', '구글', '카카오', '네이버'],  2, counts=[1,1,1,1,10000000]))\",\n",
       "    'from collections import Counter\\n\\nchar_count = Counter(\"Samsung\")\\nprint(char_count)',\n",
       "    \"word_count = Counter(['삼성', '애플', '삼성', '아마존', '애플', '삼성', '네이버', '네이버', '네이버'])\\nprint(word_count)\\n\\nprint(word_count.most_common(1))\\nprint(word_count.most_common(2))\\n\\nprint(word_count['애플'])\\n\\nprint(sum(word_count.values()))\",\n",
       "    \"import pandas as pd\\ndf = pd.DataFrame({'num_legs': [2, 4, 8, 0],\\n                   'num_wings': [2, 0, 0, 0],\\n                   'num_specimen_seen': [10, 2, 1, 8]},\\n                   index=['falcon', 'dog', 'spider', 'fish'])\\ndf\",\n",
       "    \"df['num_legs'].sample(n=2, weights=[1,1,1,100000000000000000000], random_state=1)\",\n",
       "    \"df.sample(n=2, weights='num_specimen_seen', random_state=1)\",\n",
       "    'import sys\\nprint(\"Before\", sys.path)\\nprint(type(sys.path))\\nsys.path.append(\\'~/Documents/Github/sesac-practice\\')\\n\\nprint(\"After:\", sys.path)',\n",
       "    'import os\\n\\ncurrent_directory = os.getcwd()\\nprint(current_directory)',\n",
       "    \"files = os.listdir('.')\\nprint(files)\",\n",
       "    \"os.system('echo Hello World')\",\n",
       "    \"print(os.environ)\\npath_value = os.environ.get('PATH')\\nprint(path_value)\",\n",
       "    \"get_ipython().system('echo Hello World')\",\n",
       "    'import time\\ntime.sleep(5)\\nprint(\"5초 후에 출력됩니다.\")',\n",
       "    'current_time = time.time()\\nprint(current_time)',\n",
       "    'local_time = time.localtime()\\nformatted_time = time.strftime(\"%Y-%m-%d %H:%M:%S\", local_time)\\n# print(local_time)\\nprint(formatted_time)',\n",
       "    \"time.strptime('01시 12분', '%H시 %M분')\",\n",
       "    'from datetime import datetime\\n\\nnow = datetime.now()\\nprint(now)',\n",
       "    'specific_time = datetime(2021, 1, 1, 12, 0, 1, 1)\\nprint(specific_time)',\n",
       "    'from datetime import date\\n\\ntoday = date.today()\\nprint(today)\\n\\nspecific_date = date(2021, 1, 1)\\nprint(specific_date)',\n",
       "    'from datetime import timedelta\\n\\none_week_later = today + timedelta(days=7)\\nprint(one_week_later)\\n\\nyesterday = today - timedelta(1)\\nprint(yesterday)',\n",
       "    'formatted_date = now.strftime(\"%Y-%m-%d %H:%M:%S\")\\nprint(formatted_date)\\n\\ndate_from_string = datetime.strptime(\"2021-01-01 12:00:00\", \"%Y-%m-%d %H:%M:%S\")\\nprint(date_from_string)\\n\\nprint(type(\"2021-01-01 12:00:00\"))\\nprint(type(formatted_date))\\nprint(type(date_from_string))',\n",
       "    'import this',\n",
       "    'globals()'],\n",
       "   'Out': {1: {...},\n",
       "    15:         num_legs  num_wings  num_specimen_seen\n",
       "    falcon         2          2                 10\n",
       "    dog            4          0                  2\n",
       "    spider         8          0                  1\n",
       "    fish           0          0                  8,\n",
       "    16: fish      0\n",
       "    falcon    2\n",
       "    Name: num_legs, dtype: int64,\n",
       "    17:         num_legs  num_wings  num_specimen_seen\n",
       "    falcon         2          2                 10\n",
       "    fish           0          0                  8,\n",
       "    21: 0,\n",
       "    27: time.struct_time(tm_year=1900, tm_mon=1, tm_mday=1, tm_hour=1, tm_min=12, tm_sec=0, tm_wday=0, tm_yday=1, tm_isdst=-1)},\n",
       "   '_': {...},\n",
       "   '_i': 'globals()',\n",
       "   '_ii': '',\n",
       "   '_iii': '',\n",
       "   '_i1': 'globals()',\n",
       "   '_1': {...},\n",
       "   '_i2': \"a = 10\\nb = 20\\nuser_variables = {key: value for key, value in globals().items() if not key.startswith('__') and not callable(value)}\\nprint(user_variables)\",\n",
       "   'a': 10,\n",
       "   'b': 20},\n",
       "  '_i3': \"a = 10\\nb = 20\\nuser_variables = {key: value for key, value in globals().items() if not key.startswith('__') and not callable(value)}\\nprint(*user_variables, sep='\\\\n')\"},\n",
       " '_i3': \"a = 10\\nb = 20\\nuser_variables = {key: value for key, value in globals().items() if not key.startswith('__') and not callable(value)}\\nprint(*user_variables, sep='\\\\n')\",\n",
       " '_i4': 'import math\\nprint(math.sqrt(16))',\n",
       " 'math': <module 'math' (built-in)>,\n",
       " '_i5': 'print(math.pow(2, 3))',\n",
       " '_i6': 'print(math.log(10))\\nprint(math.log(100, 10))',\n",
       " '_i7': 'import random\\nprint(random.randint(1, 10))',\n",
       " 'random': <module 'random' from 'C:\\\\Program Files\\\\Python312\\\\Lib\\\\random.py'>,\n",
       " '_i8': \"itmes = ['삼성', '애플', '구글']\\nprint(random.choice(itmes))\",\n",
       " 'itmes': ['삼성', '애플', '구글'],\n",
       " '_i9': 'numbers = [1, 2, 3, 4, 5]\\nrandom.shuffle(numbers)\\nprint(numbers)',\n",
       " 'numbers': [3, 1, 5, 2, 4],\n",
       " '_i10': 'print(random.random())',\n",
       " '_i11': \"print(random.choices(['삼성', '애플', '구글'], weights=[3, 1, 1], k=2))\",\n",
       " '_i12': \"print(random.sample(['삼성', '애플', '구글', '카카오', '네이버'],  2))\\nprint(random.sample(['삼성', '애플', '구글', '카카오', '네이버'],  2, counts=[1,1,1,1,10000000]))\",\n",
       " '_i13': 'from collections import Counter\\n\\nchar_count = Counter(\"Samsung\")\\nprint(char_count)',\n",
       " 'Counter': collections.Counter,\n",
       " 'char_count': Counter({'S': 1,\n",
       "          'a': 1,\n",
       "          'm': 1,\n",
       "          's': 1,\n",
       "          'u': 1,\n",
       "          'n': 1,\n",
       "          'g': 1}),\n",
       " '_i14': \"word_count = Counter(['삼성', '애플', '삼성', '아마존', '애플', '삼성', '네이버', '네이버', '네이버'])\\nprint(word_count)\\n\\nprint(word_count.most_common(1))\\nprint(word_count.most_common(2))\\n\\nprint(word_count['애플'])\\n\\nprint(sum(word_count.values()))\",\n",
       " 'word_count': Counter({'삼성': 3, '네이버': 3, '애플': 2, '아마존': 1}),\n",
       " '_i15': \"import pandas as pd\\ndf = pd.DataFrame({'num_legs': [2, 4, 8, 0],\\n                   'num_wings': [2, 0, 0, 0],\\n                   'num_specimen_seen': [10, 2, 1, 8]},\\n                   index=['falcon', 'dog', 'spider', 'fish'])\\ndf\",\n",
       " 'pd': <module 'pandas' from 'c:\\\\Users\\\\r2com\\\\Desktop\\\\PRACTICE\\\\.venv\\\\Lib\\\\site-packages\\\\pandas\\\\__init__.py'>,\n",
       " 'df':         num_legs  num_wings  num_specimen_seen\n",
       " falcon         2          2                 10\n",
       " dog            4          0                  2\n",
       " spider         8          0                  1\n",
       " fish           0          0                  8,\n",
       " '_15':         num_legs  num_wings  num_specimen_seen\n",
       " falcon         2          2                 10\n",
       " dog            4          0                  2\n",
       " spider         8          0                  1\n",
       " fish           0          0                  8,\n",
       " '_i16': \"df['num_legs'].sample(n=2, weights=[1,1,1,100000000000000000000], random_state=1)\",\n",
       " '_16': fish      0\n",
       " falcon    2\n",
       " Name: num_legs, dtype: int64,\n",
       " '_i17': \"df.sample(n=2, weights='num_specimen_seen', random_state=1)\",\n",
       " '_17':         num_legs  num_wings  num_specimen_seen\n",
       " falcon         2          2                 10\n",
       " fish           0          0                  8,\n",
       " '_i18': 'import sys\\nprint(\"Before\", sys.path)\\nprint(type(sys.path))\\nsys.path.append(\\'~/Documents/Github/sesac-practice\\')\\n\\nprint(\"After:\", sys.path)',\n",
       " 'sys': <module 'sys' (built-in)>,\n",
       " '_i19': 'import os\\n\\ncurrent_directory = os.getcwd()\\nprint(current_directory)',\n",
       " 'os': <module 'os' (frozen)>,\n",
       " 'current_directory': 'c:\\\\Users\\\\r2com\\\\Desktop\\\\PRACTICE',\n",
       " '_i20': \"files = os.listdir('.')\\nprint(files)\",\n",
       " 'files': ['.venv',\n",
       "  'day.ipynb',\n",
       "  'decorator.ipynb',\n",
       "  'example.txt',\n",
       "  'fucntion.ipynb',\n",
       "  'hello_pikashu.py',\n",
       "  'id_practice.py',\n",
       "  'module_practice',\n",
       "  'module_practice.ipynb',\n",
       "  'notebook.ipynb',\n",
       "  'test.py',\n",
       "  '자기소개서'],\n",
       " '_i21': \"os.system('echo Hello World')\",\n",
       " '_21': 0,\n",
       " '_i22': \"print(os.environ)\\npath_value = os.environ.get('PATH')\\nprint(path_value)\",\n",
       " 'path_value': 'c:\\\\Users\\\\r2com\\\\Desktop\\\\PRACTICE\\\\.venv\\\\Scripts;C:\\\\Program Files\\\\Python312\\\\Scripts\\\\;C:\\\\Program Files\\\\Python312\\\\;C:\\\\Windows\\\\system32;C:\\\\Windows;C:\\\\Windows\\\\System32\\\\Wbem;C:\\\\Windows\\\\System32\\\\WindowsPowerShell\\\\v1.0\\\\;C:\\\\Windows\\\\System32\\\\OpenSSH\\\\;C:\\\\Program Files\\\\Git\\\\cmd;C:\\\\Users\\\\r2com\\\\AppData\\\\Local\\\\Microsoft\\\\WindowsApps;C:\\\\Users\\\\r2com\\\\AppData\\\\Local\\\\Programs\\\\Microsoft VS Code\\\\bin;C:\\\\Users\\\\r2com\\\\AppData\\\\Local\\\\GitHubDesktop\\\\bin',\n",
       " '_i23': '!echo Hello World',\n",
       " '_exit_code': 0,\n",
       " '_i24': 'import time\\ntime.sleep(5)\\nprint(\"5초 후에 출력됩니다.\")',\n",
       " 'time': <module 'time' (built-in)>,\n",
       " '_i25': 'current_time = time.time()\\nprint(current_time)',\n",
       " 'current_time': 1704960836.0863385,\n",
       " '_i26': 'local_time = time.localtime()\\nformatted_time = time.strftime(\"%Y-%m-%d %H:%M:%S\", local_time)\\n# print(local_time)\\nprint(formatted_time)',\n",
       " 'local_time': time.struct_time(tm_year=2024, tm_mon=1, tm_mday=11, tm_hour=17, tm_min=13, tm_sec=56, tm_wday=3, tm_yday=11, tm_isdst=0),\n",
       " 'formatted_time': '2024-01-11 17:13:56',\n",
       " '_i27': \"time.strptime('01시 12분', '%H시 %M분')\",\n",
       " '_27': time.struct_time(tm_year=1900, tm_mon=1, tm_mday=1, tm_hour=1, tm_min=12, tm_sec=0, tm_wday=0, tm_yday=1, tm_isdst=-1),\n",
       " '_i28': 'from datetime import datetime\\n\\nnow = datetime.now()\\nprint(now)',\n",
       " 'datetime': datetime.datetime,\n",
       " 'now': datetime.datetime(2024, 1, 11, 17, 13, 56, 134593),\n",
       " '_i29': 'specific_time = datetime(2021, 1, 1, 12, 0, 1, 1)\\nprint(specific_time)',\n",
       " 'specific_time': datetime.datetime(2021, 1, 1, 12, 0, 1, 1),\n",
       " '_i30': 'from datetime import date\\n\\ntoday = date.today()\\nprint(today)\\n\\nspecific_date = date(2021, 1, 1)\\nprint(specific_date)',\n",
       " 'date': datetime.date,\n",
       " 'today': datetime.date(2024, 1, 11),\n",
       " 'specific_date': datetime.date(2021, 1, 1),\n",
       " '_i31': 'from datetime import timedelta\\n\\none_week_later = today + timedelta(days=7)\\nprint(one_week_later)\\n\\nyesterday = today - timedelta(1)\\nprint(yesterday)',\n",
       " 'timedelta': datetime.timedelta,\n",
       " 'one_week_later': datetime.date(2024, 1, 18),\n",
       " 'yesterday': datetime.date(2024, 1, 10),\n",
       " '_i32': 'formatted_date = now.strftime(\"%Y-%m-%d %H:%M:%S\")\\nprint(formatted_date)\\n\\ndate_from_string = datetime.strptime(\"2021-01-01 12:00:00\", \"%Y-%m-%d %H:%M:%S\")\\nprint(date_from_string)\\n\\nprint(type(\"2021-01-01 12:00:00\"))\\nprint(type(formatted_date))\\nprint(type(date_from_string))',\n",
       " 'formatted_date': '2024-01-11 17:13:56',\n",
       " 'date_from_string': datetime.datetime(2021, 1, 1, 12, 0),\n",
       " '_i33': 'import this',\n",
       " 'this': <module 'this' from 'C:\\\\Program Files\\\\Python312\\\\Lib\\\\this.py'>,\n",
       " '_i34': 'globals()'}"
      ]
     },
     "execution_count": 34,
     "metadata": {},
     "output_type": "execute_result"
    }
   ],
   "source": [
    "globals()"
   ]
  },
  {
   "cell_type": "code",
   "execution_count": 35,
   "metadata": {},
   "outputs": [
    {
     "name": "stdout",
     "output_type": "stream",
     "text": [
      "_ih\n",
      "_oh\n",
      "_dh\n",
      "In\n",
      "Out\n",
      "_\n",
      "_i\n",
      "_ii\n",
      "_iii\n",
      "_i1\n",
      "_1\n",
      "_i2\n",
      "a\n",
      "b\n",
      "user_variables\n",
      "_i3\n",
      "_i4\n",
      "math\n",
      "_i5\n",
      "_i6\n",
      "_i7\n",
      "random\n",
      "_i8\n",
      "itmes\n",
      "_i9\n",
      "numbers\n",
      "_i10\n",
      "_i11\n",
      "_i12\n",
      "_i13\n",
      "char_count\n",
      "_i14\n",
      "word_count\n",
      "_i15\n",
      "pd\n",
      "df\n",
      "_15\n",
      "_i16\n",
      "_16\n",
      "_i17\n",
      "_17\n",
      "_i18\n",
      "sys\n",
      "_i19\n",
      "os\n",
      "current_directory\n",
      "_i20\n",
      "files\n",
      "_i21\n",
      "_21\n",
      "_i22\n",
      "path_value\n",
      "_i23\n",
      "_exit_code\n",
      "_i24\n",
      "time\n",
      "_i25\n",
      "current_time\n",
      "_i26\n",
      "local_time\n",
      "formatted_time\n",
      "_i27\n",
      "_27\n",
      "_i28\n",
      "now\n",
      "_i29\n",
      "specific_time\n",
      "_i30\n",
      "today\n",
      "specific_date\n",
      "_i31\n",
      "one_week_later\n",
      "yesterday\n",
      "_i32\n",
      "formatted_date\n",
      "date_from_string\n",
      "_i33\n",
      "this\n",
      "_i34\n",
      "_34\n",
      "_i35\n"
     ]
    }
   ],
   "source": [
    "a = 10\n",
    "b = 20\n",
    "user_variables = {key: value for key, value in globals().items() if not key.startswith('__') and not callable(value)}\n",
    "print(*user_variables, sep='\\n')"
   ]
  },
  {
   "cell_type": "code",
   "execution_count": null,
   "metadata": {},
   "outputs": [],
   "source": []
  }
 ],
 "metadata": {
  "kernelspec": {
   "display_name": ".venv",
   "language": "python",
   "name": "python3"
  },
  "language_info": {
   "codemirror_mode": {
    "name": "ipython",
    "version": 3
   },
   "file_extension": ".py",
   "mimetype": "text/x-python",
   "name": "python",
   "nbconvert_exporter": "python",
   "pygments_lexer": "ipython3",
   "version": "3.12.1"
  }
 },
 "nbformat": 4,
 "nbformat_minor": 2
}
