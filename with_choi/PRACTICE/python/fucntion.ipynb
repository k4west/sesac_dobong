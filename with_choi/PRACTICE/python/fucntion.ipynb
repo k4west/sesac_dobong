{
 "cells": [
  {
   "cell_type": "code",
   "execution_count": 1,
   "metadata": {},
   "outputs": [
    {
     "name": "stdout",
     "output_type": "stream",
     "text": [
      "15\n",
      "5\n"
     ]
    }
   ],
   "source": [
    "def add(a, b):\n",
    "    return a + b\n",
    "\n",
    "def subtract(a, b):\n",
    "    return a - b\n",
    "\n",
    "calc = [add, subtract]\n",
    "\n",
    "for i in calc:\n",
    "    print(i(10, 5))"
   ]
  },
  {
   "cell_type": "code",
   "execution_count": 2,
   "metadata": {},
   "outputs": [
    {
     "name": "stdout",
     "output_type": "stream",
     "text": [
      "15\n",
      "5\n"
     ]
    }
   ],
   "source": [
    "def add(a, b):\n",
    "    return a + b\n",
    "\n",
    "def subtract(a, b):\n",
    "    return a - b\n",
    "\n",
    "calc = {\"add\": add, \n",
    "        \"subtract\": subtract,\n",
    "        }\n",
    "\n",
    "num1 = calc[\"add\"](10, 5)\n",
    "num2 = calc[\"subtract\"](10, 5)\n",
    "\n",
    "print(num1)\n",
    "print(num2)"
   ]
  },
  {
   "cell_type": "code",
   "execution_count": 4,
   "metadata": {},
   "outputs": [
    {
     "name": "stdout",
     "output_type": "stream",
     "text": [
      "[1, 4, 9, 16, 25]\n"
     ]
    }
   ],
   "source": [
    "numbers = [1, 2, 3, 4, 5]\n",
    "squared = map(lambda x: x**2, numbers)\n",
    "print(list(squared))"
   ]
  },
  {
   "cell_type": "code",
   "execution_count": 5,
   "metadata": {},
   "outputs": [
    {
     "name": "stdout",
     "output_type": "stream",
     "text": [
      "[1, 4, 9, 16, 25]\n"
     ]
    }
   ],
   "source": [
    "def power(x):\n",
    "    return x**2\n",
    "\n",
    "numbers = [1, 2, 3, 4, 5]\n",
    "squared = map(power, numbers)\n",
    "print(list(squared))"
   ]
  },
  {
   "cell_type": "code",
   "execution_count": 7,
   "metadata": {},
   "outputs": [
    {
     "name": "stdout",
     "output_type": "stream",
     "text": [
      "[1, 2, 3, 4, 5]\n"
     ]
    }
   ],
   "source": [
    "str_numbers = [\"1\", \"2\", \"3\", \"4\", \"5\"]\n",
    "int_numbers = map(int, str_numbers)\n",
    "print(list(int_numbers))"
   ]
  },
  {
   "cell_type": "code",
   "execution_count": 8,
   "metadata": {},
   "outputs": [
    {
     "name": "stdout",
     "output_type": "stream",
     "text": [
      "[2, 4]\n"
     ]
    }
   ],
   "source": [
    "def is_even(number):\n",
    "    return number % 2 == 0\n",
    "\n",
    "numbers = [1, 2, 3, 4, 5]\n",
    "even_numbers = filter(is_even, numbers)\n",
    "print(list(even_numbers))"
   ]
  },
  {
   "cell_type": "code",
   "execution_count": 9,
   "metadata": {},
   "outputs": [
    {
     "name": "stdout",
     "output_type": "stream",
     "text": [
      "[{'date': '2024-01-01', 'value': 10}]\n"
     ]
    }
   ],
   "source": [
    "data = [\n",
    "    {\"date\": \"2024-01-01\", \"value\": 10},\n",
    "    {\"date\": \"2024-01-02\", \"value\": 15},\n",
    "    {\"date\": \"2024-01-03\", \"value\": 20},\n",
    "]\n",
    "jan_first_data = filter(lambda x: x[\"date\"] == \"2024-01-01\", data)\n",
    "print(list(jan_first_data))"
   ]
  },
  {
   "cell_type": "code",
   "execution_count": 13,
   "metadata": {},
   "outputs": [
    {
     "name": "stdout",
     "output_type": "stream",
     "text": [
      "['850505-1345678', '971212-1567890']\n"
     ]
    }
   ],
   "source": [
    "def korean_drink_alcohol(pid):\n",
    "    birth_year = int(pid.split(\"-\")[0][:2])\n",
    "    millennial = int(pid.split(\"-\")[1][0]) >= 3\n",
    "    if millennial:\n",
    "        birth_year = 2000 + birth_year\n",
    "    else:\n",
    "        birth_year = 1900 + birth_year\n",
    "    return 2024 - birth_year >= 20\n",
    "\n",
    "students = [\"050123-3234567\", \"850505-1345678\", \"060404-3456789\", \"971212-1567890\"]\n",
    "alcoholer = filter(korean_drink_alcohol, students)\n",
    "print(list(alcoholer))"
   ]
  },
  {
   "cell_type": "code",
   "execution_count": 14,
   "metadata": {},
   "outputs": [
    {
     "name": "stdout",
     "output_type": "stream",
     "text": [
      "8\n"
     ]
    }
   ],
   "source": [
    "add = lambda x, y: x + y\n",
    "print(add(5, 3))"
   ]
  },
  {
   "cell_type": "code",
   "execution_count": 15,
   "metadata": {},
   "outputs": [
    {
     "name": "stdout",
     "output_type": "stream",
     "text": [
      "Sorted : ['똘끼', '새초미', '떵이', '오로라공주', '호치']\n"
     ]
    }
   ],
   "source": [
    "strings = ['똘끼', \"떵이\", \"호치\", \"새초미\", \"오로라공주\"]\n",
    "\n",
    "strings.sort(key=lambda s: s[-1])\n",
    "print(\"Sorted :\", strings)"
   ]
  },
  {
   "cell_type": "code",
   "execution_count": 16,
   "metadata": {},
   "outputs": [
    {
     "name": "stdout",
     "output_type": "stream",
     "text": [
      "1\n",
      "2\n",
      "3\n",
      "4\n",
      "5\n"
     ]
    }
   ],
   "source": [
    "def count_up_to(max_number):\n",
    "    count = 1\n",
    "    while count <= max_number:\n",
    "        yield count\n",
    "        count += 1\n",
    "\n",
    "counter = count_up_to(5)\n",
    "for number in counter:\n",
    "    print(number)"
   ]
  },
  {
   "cell_type": "code",
   "execution_count": 17,
   "metadata": {},
   "outputs": [],
   "source": [
    "def ticket_generator():\n",
    "    ticket_number = 1\n",
    "    while True:\n",
    "        yield ticket_number\n",
    "        ticket_number += 1\n",
    "\n",
    "kiosk = ticket_generator()"
   ]
  },
  {
   "cell_type": "code",
   "execution_count": 18,
   "metadata": {},
   "outputs": [
    {
     "name": "stdout",
     "output_type": "stream",
     "text": [
      "First ticket: 1\n"
     ]
    }
   ],
   "source": [
    "# 키오스크에서 첫 번째 번호표를 받기\n",
    "print(\"First ticket:\", next(kiosk)) # 결과: First ticket: 1"
   ]
  },
  {
   "cell_type": "code",
   "execution_count": 19,
   "metadata": {},
   "outputs": [
    {
     "name": "stdout",
     "output_type": "stream",
     "text": [
      "Second ticket: 2\n"
     ]
    }
   ],
   "source": [
    "# 키오스크에서 첫 번째 번호표를 받기\n",
    "print(\"Second ticket:\", next(kiosk))    # 결과: First ticket: 2"
   ]
  },
  {
   "cell_type": "code",
   "execution_count": 20,
   "metadata": {},
   "outputs": [
    {
     "name": "stdout",
     "output_type": "stream",
     "text": [
      "Third ticket: 3\n"
     ]
    }
   ],
   "source": [
    "# 키오스크에서 첫 번째 번호표를 받기\n",
    "print(\"Third ticket:\", next(kiosk)) # 결과: First ticket: 3"
   ]
  },
  {
   "cell_type": "code",
   "execution_count": 23,
   "metadata": {},
   "outputs": [
    {
     "name": "stdout",
     "output_type": "stream",
     "text": [
      "User>>> 안녕\n",
      "도봉이>>> 안녕하세요\n",
      "User>>> 히\n",
      "도봉이>>> 뭔 소리에요?\n"
     ]
    }
   ],
   "source": [
    "import time\n",
    "import random\n",
    "\n",
    "# 지연된 느낌을 내보고자 일부로 메시지를 쪼갠다.\n",
    "def split_message(message, chunk_size=2):\n",
    "    return [message[i:i+chunk_size] for i in range(0, len(message), chunk_size)]\n",
    "\n",
    "def dobongi(message, min_delay=0.5, max_delay=2):\n",
    "    # 딜레이 시간도 일불로 만들어봤다.\n",
    "    for chunk in split_message(message):\n",
    "        time.sleep(random.uniform(min_delay, max_delay))\n",
    "        # 여기가 핵심.\n",
    "        yield chunk\n",
    "\n",
    "responses = {\n",
    "    \"안녕\": \"안녕하세요\",\n",
    "    \"넌 뭐하는 애니?\": \"제가 뭘 어쨌다구요?\",\n",
    "    \"내가 너 때문에 미치겠다.\": \"그러시던가요?\",\n",
    "    \"안녕히 계세요\": \"안녕히 가세요!\"\n",
    "}\n",
    "\n",
    "while True:\n",
    "    user_input = input(\"User: \")\n",
    "    if user_input == \"종료\":\n",
    "        break\n",
    "    response = responses.get(user_input, \"뭔 소리에요?\")\n",
    "    \n",
    "    print(f\"User>>> {user_input}\",)\n",
    "    print(\"도봉이>>> \", end='')\n",
    "    for chunk in dobongi(response):\n",
    "        print(chunk, end='')\n",
    "    print('\\n', end='')"
   ]
  },
  {
   "cell_type": "code",
   "execution_count": null,
   "metadata": {},
   "outputs": [],
   "source": []
  }
 ],
 "metadata": {
  "kernelspec": {
   "display_name": ".venv",
   "language": "python",
   "name": "python3"
  },
  "language_info": {
   "codemirror_mode": {
    "name": "ipython",
    "version": 3
   },
   "file_extension": ".py",
   "mimetype": "text/x-python",
   "name": "python",
   "nbconvert_exporter": "python",
   "pygments_lexer": "ipython3",
   "version": "3.12.1"
  }
 },
 "nbformat": 4,
 "nbformat_minor": 2
}
