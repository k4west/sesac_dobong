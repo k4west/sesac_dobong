{
 "cells": [
  {
   "cell_type": "code",
   "execution_count": 8,
   "metadata": {},
   "outputs": [
    {
     "name": "stdout",
     "output_type": "stream",
     "text": [
      "140731799787928 140731799787928\n"
     ]
    }
   ],
   "source": [
    "a = 256\n",
    "b = 256\n",
    "print(id(a), id(b))"
   ]
  },
  {
   "cell_type": "code",
   "execution_count": 9,
   "metadata": {},
   "outputs": [
    {
     "name": "stdout",
     "output_type": "stream",
     "text": [
      "1680895452304 1680895452336\n"
     ]
    }
   ],
   "source": [
    "a = 257\n",
    "b = 257\n",
    "print(id(a), id(b))"
   ]
  },
  {
   "cell_type": "code",
   "execution_count": 10,
   "metadata": {},
   "outputs": [
    {
     "data": {
      "text/plain": [
       "0.30000000000000004"
      ]
     },
     "execution_count": 10,
     "metadata": {},
     "output_type": "execute_result"
    }
   ],
   "source": [
    "0.1+0.2"
   ]
  },
  {
   "cell_type": "code",
   "execution_count": 13,
   "metadata": {},
   "outputs": [
    {
     "name": "stdout",
     "output_type": "stream",
     "text": [
      "산산이 부서진 이름이여!\n",
      "허공 중에 헤어진 이름이여!\n",
      "불러도 주인 없는 이름이여!\n",
      "부르다가 내가 죽을 이름이여!\n"
     ]
    }
   ],
   "source": [
    "multiline = \"산산이 부서진 이름이여!\\n허공 중에 헤어진 이름이여!\\n불러도 주인 없는 이름이여!\\n부르다가 내가 죽을 이름이여!\"\n",
    "print(multiline)"
   ]
  },
  {
   "cell_type": "code",
   "execution_count": 14,
   "metadata": {},
   "outputs": [
    {
     "name": "stdout",
     "output_type": "stream",
     "text": [
      "산산이 부서진 이름이여!\n",
      "허공 중에 헤어진 이름이여!\n",
      "불러도 주인 없는 이름이여!\n",
      "부르다가 내가 죽을 이름이여!\n"
     ]
    }
   ],
   "source": [
    "multiline = \"\"\"산산이 부서진 이름이여!\n",
    "허공 중에 헤어진 이름이여!\n",
    "불러도 주인 없는 이름이여!\n",
    "부르다가 내가 죽을 이름이여!\"\"\"\n",
    "print(multiline)"
   ]
  },
  {
   "cell_type": "code",
   "execution_count": 17,
   "metadata": {},
   "outputs": [
    {
     "name": "stdout",
     "output_type": "stream",
     "text": [
      "안녕, 나는 솔로 16기\n"
     ]
    }
   ],
   "source": [
    "hi = \"안녕\"\n",
    "season = 16\n",
    "print(\"%s, 나는 솔로 %d기\" % (hi, season))"
   ]
  },
  {
   "cell_type": "code",
   "execution_count": 18,
   "metadata": {},
   "outputs": [
    {
     "data": {
      "text/plain": [
       "'제가 제일 좋아하는 카페는 Starbucks입니다. 그 중에서도 Americano가 가장 좋아요'"
      ]
     },
     "execution_count": 18,
     "metadata": {},
     "output_type": "execute_result"
    }
   ],
   "source": [
    "brand = \"Starbucks\"\n",
    "menu = \"Americano\"\n",
    "f'제가 제일 좋아하는 카페는 {brand}입니다. 그 중에서도 {menu}가 가장 좋아요'"
   ]
  },
  {
   "cell_type": "code",
   "execution_count": 19,
   "metadata": {},
   "outputs": [
    {
     "name": "stdout",
     "output_type": "stream",
     "text": [
      "제 나이는 윤석열 나이로 33살입니다.\n"
     ]
    }
   ],
   "source": [
    "age = 34\n",
    "print(f'제 나이는 윤석열 나이로 {age-1}살입니다.')"
   ]
  },
  {
   "cell_type": "code",
   "execution_count": 20,
   "metadata": {},
   "outputs": [
    {
     "name": "stdout",
     "output_type": "stream",
     "text": [
      "제 MBTI는 INFP이고, 혈액형은 B형입니다.\n"
     ]
    }
   ],
   "source": [
    "mbti = 'INFP'\n",
    "blood = 'B'\n",
    "introduction = '제 MBTI는 {}이고, 혈액형은 {}형입니다.'.format(mbti, blood)\n",
    "print(introduction)"
   ]
  },
  {
   "cell_type": "code",
   "execution_count": 23,
   "metadata": {},
   "outputs": [
    {
     "data": {
      "text/plain": [
       "3"
      ]
     },
     "execution_count": 23,
     "metadata": {},
     "output_type": "execute_result"
    }
   ],
   "source": [
    "3|2"
   ]
  },
  {
   "cell_type": "code",
   "execution_count": null,
   "metadata": {},
   "outputs": [],
   "source": []
  }
 ],
 "metadata": {
  "kernelspec": {
   "display_name": ".venv",
   "language": "python",
   "name": "python3"
  },
  "language_info": {
   "codemirror_mode": {
    "name": "ipython",
    "version": 3
   },
   "file_extension": ".py",
   "mimetype": "text/x-python",
   "name": "python",
   "nbconvert_exporter": "python",
   "pygments_lexer": "ipython3",
   "version": "3.12.1"
  }
 },
 "nbformat": 4,
 "nbformat_minor": 2
}
