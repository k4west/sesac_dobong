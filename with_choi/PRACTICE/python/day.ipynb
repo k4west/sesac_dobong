{
 "cells": [
  {
   "cell_type": "code",
   "execution_count": null,
   "metadata": {},
   "outputs": [],
   "source": [
    "day = \"토요일\"\n",
    "time = \"06:30\"\n",
    "if day in [\"토요일\", \"일요일\"] and time == \"06:30\":\n",
    "    print(\"더 자라\")\n",
    "else:\n",
    "    print(\"빠빠빠빠빠빠 굿모닝 ~\")"
   ]
  },
  {
   "cell_type": "code",
   "execution_count": null,
   "metadata": {},
   "outputs": [],
   "source": [
    "day = \"월요일\"\n",
    "holiday = True\n",
    "\n",
    "if day in [\"토요일\", \"일요일\"]:\n",
    "    print(\"더 자라\")\n",
    "elif holiday:\n",
    "    print(\"더 자라\")\n",
    "else:\n",
    "    print(\"빠빠빠빠빠빠 굿모닝 ~\")"
   ]
  },
  {
   "cell_type": "code",
   "execution_count": null,
   "metadata": {},
   "outputs": [],
   "source": [
    "member_grade = \"Gold\"\n",
    "member_points = 600\n",
    "\n",
    "if member_grade == \"Gold\":\n",
    "    if member_points >= 500:\n",
    "        print(\"특별 혜택을 제공합니다!\")\n",
    "    else:\n",
    "        print(\"포인트가 부족합니다.\")\n",
    "else:\n",
    "    print(\"등급이 충분하지 않습니다.\")"
   ]
  },
  {
   "cell_type": "code",
   "execution_count": null,
   "metadata": {},
   "outputs": [],
   "source": [
    "import random\n",
    "dormitories = ['그리핀도르', '후플푸프', '레번클로', '슬리데린']\n",
    "for dormitory in dormitories:\n",
    "    selected = random.choice(dormitories)\n",
    "    print(f'{selected}!')\n",
    "    break"
   ]
  },
  {
   "cell_type": "code",
   "execution_count": null,
   "metadata": {},
   "outputs": [],
   "source": [
    "for char in 'abcdefghijklmnopqrstuvwxyz':\n",
    "    print(char)\n",
    "\n",
    "for i in range(97, 123):\n",
    "    print(chr(i))"
   ]
  },
  {
   "cell_type": "code",
   "execution_count": null,
   "metadata": {},
   "outputs": [],
   "source": [
    "evens = []\n",
    "odds = []\n",
    "\n",
    "for number in range(1, 11):\n",
    "    if number % 2 == 0:\n",
    "        evens.append(number)\n",
    "    else:\n",
    "        odds.append(number)"
   ]
  },
  {
   "cell_type": "code",
   "execution_count": null,
   "metadata": {},
   "outputs": [],
   "source": [
    "for i in range(1, 10):\n",
    "    for j in range(1, 10):\n",
    "        print(f\"{i} x {j} = {i*j}\")"
   ]
  },
  {
   "cell_type": "code",
   "execution_count": null,
   "metadata": {},
   "outputs": [],
   "source": [
    "lst = [1, 2, 3, 2, 1, 5, 6, 5, 5, 7]\n",
    "\n",
    "duplicated = set()\n",
    "for i in range(len(lst)):\n",
    "    for j in range(i+1, len(lst)):\n",
    "        if lst[i] == lst[j]:\n",
    "            duplicated.add(lst[i])\n",
    "            \n",
    "print(duplicated)"
   ]
  },
  {
   "cell_type": "code",
   "execution_count": null,
   "metadata": {},
   "outputs": [],
   "source": [
    "while True:\n",
    "    사용자_입력 = input(\"메시지를 입력하세요 (종료하려면 '종료' 입력):\")\n",
    "    if 사용자_입력 == \"종료\":\n",
    "        break\n",
    "    print(f\"입력된 메시지: {사용자_입력}\")"
   ]
  },
  {
   "cell_type": "code",
   "execution_count": null,
   "metadata": {},
   "outputs": [],
   "source": [
    "for i in range(1, 11):\n",
    "    print(i)"
   ]
  },
  {
   "cell_type": "code",
   "execution_count": 4,
   "metadata": {},
   "outputs": [
    {
     "name": "stdout",
     "output_type": "stream",
     "text": [
      "15\n",
      "30\n",
      "45\n"
     ]
    }
   ],
   "source": [
    "for i in range(5, 51, 5):\n",
    "    if i%3:\n",
    "        continue\n",
    "    print(i)"
   ]
  },
  {
   "cell_type": "code",
   "execution_count": null,
   "metadata": {},
   "outputs": [],
   "source": [
    "fruits = ['사과', '바나나', '체리']\n",
    "for index, fruit in enumerate(fruits):\n",
    "    print(f\"index {index}: {fruit}\")"
   ]
  },
  {
   "cell_type": "code",
   "execution_count": null,
   "metadata": {},
   "outputs": [],
   "source": [
    "fruits = ['사과', '바나나', '체리']\n",
    "for index, fruit in enumerate(fruits, 1):\n",
    "    print(f\"index {index}: {fruit}\")"
   ]
  },
  {
   "cell_type": "code",
   "execution_count": 7,
   "metadata": {},
   "outputs": [
    {
     "name": "stdout",
     "output_type": "stream",
     "text": [
      "{1, 2, 5}\n"
     ]
    }
   ],
   "source": [
    "lst = [1, 2, 3, 2, 1, 5, 6, 5, 5, 7]\n",
    "duplicated = set()\n",
    "for idx, item in enumerate(lst):\n",
    "    for j in range(idx+1, len(lst)):\n",
    "        if item == lst[j]:\n",
    "            duplicated.add(item)\n",
    "print(duplicated)"
   ]
  },
  {
   "cell_type": "code",
   "execution_count": null,
   "metadata": {},
   "outputs": [],
   "source": []
  },
  {
   "cell_type": "code",
   "execution_count": 13,
   "metadata": {},
   "outputs": [
    {
     "name": "stdout",
     "output_type": "stream",
     "text": [
      "['뉴진스 멤버를 소개합니다.\\n', '민지\\n', '하니\\n', '다니엘\\n', '해린\\n', '혜인']\n"
     ]
    }
   ],
   "source": [
    "with open(\"example.txt\", \"r\", encoding='utf-8') as file:\n",
    "    print(list(file))\n",
    "    for line in file:\n",
    "        # 각 줄에 대한 처리\n",
    "        print(line.rstrip())"
   ]
  },
  {
   "cell_type": "code",
   "execution_count": null,
   "metadata": {},
   "outputs": [],
   "source": []
  }
 ],
 "metadata": {
  "kernelspec": {
   "display_name": ".venv",
   "language": "python",
   "name": "python3"
  },
  "language_info": {
   "codemirror_mode": {
    "name": "ipython",
    "version": 3
   },
   "file_extension": ".py",
   "mimetype": "text/x-python",
   "name": "python",
   "nbconvert_exporter": "python",
   "pygments_lexer": "ipython3",
   "version": "3.12.1"
  }
 },
 "nbformat": 4,
 "nbformat_minor": 2
}
