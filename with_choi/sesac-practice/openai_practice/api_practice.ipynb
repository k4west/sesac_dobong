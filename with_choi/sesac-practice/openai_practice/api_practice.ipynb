{
 "cells": [
  {
   "cell_type": "code",
   "execution_count": 1,
   "metadata": {},
   "outputs": [],
   "source": [
    "import os\n",
    "\n",
    "# # 환경 변수 불러오기\n",
    "# from dotenv import load_dotenv\n",
    "# load_dotenv()\n",
    "\n",
    "# openai 불러오고 API 키 넣어주기\n",
    "from openai import OpenAI\n",
    "import openai\n",
    "\n",
    "openai.api_key = os.environ[\"OPENAI_API_KEY\"]\n",
    "client = OpenAI()"
   ]
  },
  {
   "cell_type": "code",
   "execution_count": 4,
   "metadata": {},
   "outputs": [],
   "source": [
    "def get_completion(prompt, model=\"gpt-3.5-turbo\", temperature=0.7):\n",
    "    completion = client.chat.completions.create(\n",
    "        model=model,\n",
    "        messages=[\n",
    "            {\"role\": \"user\", \"content\": prompt}\n",
    "            ],\n",
    "    temperature=temperature\n",
    "    )\n",
    "    return completion.choices[0].message.content"
   ]
  },
  {
   "cell_type": "code",
   "execution_count": 5,
   "metadata": {},
   "outputs": [
    {
     "data": {
      "text/plain": [
       "'GPT는 \"Generative Pre-trained Transformer\"의 약자로, OpenAI에서 개발한 인공지능 언어 모델입니다. GPT는 대규모의 텍스트 데이터를 학습하여 다양한 자연어 처리 작업을 수행할 수 있는 강력한 언어 모델을 구축합니다.\\n\\nGPT는 트랜스포머(Transformer)라는 딥러닝 아키텍처를 기반으로 하며, 텍스트의 문맥을 이해하고 다음 단어를 예측하는 능력을 갖추고 있습니다. 이러한 능력을 통해 문장 생성, 언어 번역, 질의응답, 요약, 감성 분석 등 다양한 자연어 처리 작업을 수행할 수 있습니다.\\n\\nGPT는 사전 훈련과 후속 조정 단계로 구성되어 있습니다. 먼저, 대규모의 인터넷 텍스트 데이터를 사용하여 사전 훈련을 수행합니다. 이 단계에서 GPT는 다양한 언어적 패턴과 텍스트 구조를 학습하게 됩니다. 그 다음, 특정 작업에 맞게 추가로 훈련되는 후속 조정 단계를 거쳐 세부적인 작업에 특화된 모델을 생성할 수 있습니다.\\n\\nGPT는 인간 수준의 자연어 이해와 생성 능력을 갖추고 있어, 다양한 자연어 처리 응용 프로그램에서 사용될 수 있습니다. 그러나 GPT는 훈련 데이터에 대한 편향성이나 잘못된 정보를 활용할 수 있는 위험성도 가지고 있으므로, 신뢰할 수 있는 데이터로 사전 훈련을 수행하고, 적절한 후속 조정 단계를 통해 응용 프로그램에 맞게 조정하는 것이 중요합니다.'"
      ]
     },
     "execution_count": 5,
     "metadata": {},
     "output_type": "execute_result"
    }
   ],
   "source": [
    "get_completion('GPT에 대해 설명해봐.')"
   ]
  },
  {
   "cell_type": "code",
   "execution_count": null,
   "metadata": {},
   "outputs": [],
   "source": []
  }
 ],
 "metadata": {
  "kernelspec": {
   "display_name": "Python 3",
   "language": "python",
   "name": "python3"
  },
  "language_info": {
   "codemirror_mode": {
    "name": "ipython",
    "version": 3
   },
   "file_extension": ".py",
   "mimetype": "text/x-python",
   "name": "python",
   "nbconvert_exporter": "python",
   "pygments_lexer": "ipython3",
   "version": "3.12.1"
  }
 },
 "nbformat": 4,
 "nbformat_minor": 2
}
