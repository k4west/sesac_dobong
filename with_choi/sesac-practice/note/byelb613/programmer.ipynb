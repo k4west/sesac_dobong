{
 "cells": [
  {
   "cell_type": "code",
   "execution_count": 8,
   "metadata": {},
   "outputs": [
    {
     "name": "stdout",
     "output_type": "stream",
     "text": [
      "2\n",
      "5\n",
      "6\n"
     ]
    }
   ],
   "source": [
    "n = 256\n",
    "n = str(n)\n",
    "\n",
    "for i in n:\n",
    "    print(i)"
   ]
  },
  {
   "cell_type": "code",
   "execution_count": 7,
   "metadata": {},
   "outputs": [
    {
     "name": "stdout",
     "output_type": "stream",
     "text": [
      "9\n"
     ]
    }
   ],
   "source": [
    "def solution(n):\n",
    "    answer = 0\n",
    "    n = str(n)\n",
    "    \n",
    "    for i in n:\n",
    "        i = int(i)\n",
    "        answer += i\n",
    "    return answer\n",
    "    \n",
    "print(solution(234))"
   ]
  },
  {
   "cell_type": "code",
   "execution_count": 10,
   "metadata": {},
   "outputs": [
    {
     "name": "stdout",
     "output_type": "stream",
     "text": [
      "1\n",
      "2\n",
      "3\n",
      "4\n",
      "5\n"
     ]
    }
   ],
   "source": [
    "def count_up_to(max_number):\n",
    "\tcount = 1\n",
    "\twhile count <= max_number:\n",
    "\t\tyield count\n",
    "\t\tcount += 1\n",
    "counter = count_up_to(5)\n",
    "for number in counter:\n",
    "\tprint(number)"
   ]
  },
  {
   "cell_type": "code",
   "execution_count": 11,
   "metadata": {},
   "outputs": [
    {
     "name": "stdout",
     "output_type": "stream",
     "text": [
      "First ticket: 1\n",
      "Second ticket: 2\n",
      "Third ticket: 3\n"
     ]
    }
   ],
   "source": [
    "def ticket_generator():\n",
    "\tticket_number = 1\n",
    "\twhile True:\n",
    "\t\tyield ticket_number\n",
    "\t\tticket_number += 1\n",
    "kiosk = ticket_generator()\n",
    "\n",
    "# 키오스크에서 첫 번째 번호표를 받기\n",
    "print(\"First ticket:\", next(kiosk)) # 결과: First ticket: 1\n",
    "\n",
    "# 키오스크에서 두 번째 번호표를 받기\n",
    "print(\"Second ticket:\", next(kiosk)) # 결과: Second ticket: 2\n",
    "\n",
    "# 키오스크에서 첫 번째 번호표를 받기\n",
    "print(\"Third ticket:\", next(kiosk)) # 결과: Third ticket: 3"
   ]
  },
  {
   "cell_type": "code",
   "execution_count": 17,
   "metadata": {},
   "outputs": [
    {
     "name": "stdout",
     "output_type": "stream",
     "text": [
      "User>>> 넌\n",
      "도봉이>>> 뭔 소리에요?\n",
      "User>>> 넌 뭐하는 애니?\n",
      "도봉이>>> 제가 뭘 어쨌다구요?\n"
     ]
    }
   ],
   "source": [
    "import time\n",
    "import random\n",
    "\n",
    "def split_message(message, chunk_size=2):\n",
    "\treturn [message[i:i+chunk_size] for i in range(0, len(message), chunk_size)]\n",
    "\n",
    "def dobongi(message, min_delay = 0.5, max_delay=2):\n",
    "\tfor chunk in split_message(message):\n",
    "\t\tyield chunk\n",
    "\t\ttime.sleep(random.uniform(min_delay, max_delay))\n",
    "\n",
    "responses = {\n",
    "\t\t\t \"안녕\": \"안녕하세요!\",\n",
    "\t\t\t \"넌 뭐하는 애니?\": \"제가 뭘 어쨌다구요?\",\n",
    "\t\t\t \"내가 너 때문에 미치겠다.\": \"그러시던가요\",\n",
    "\t\t\t \"안녕히 계세요\": \"안녕히 가세요!\"\n",
    "}\n",
    "\n",
    "while True:\n",
    "\tuser_input = input(\"User: \")\n",
    "\tif user_input == \"종료\":\n",
    "\t\tbreak\n",
    "\tresponse = responses.get(user_input, \"뭔 소리에요?\")\n",
    "\n",
    "\tprint(f\"User>>> {user_input}\",)\n",
    "\tprint(\"도봉이>>> \", end='')\n",
    "\tfor chunk in dobongi(response):\n",
    "\t\tprint(chunk, end='')\n",
    "\tprint('\\n', end='')"
   ]
  },
  {
   "cell_type": "code",
   "execution_count": null,
   "metadata": {},
   "outputs": [],
   "source": []
  }
 ],
 "metadata": {
  "kernelspec": {
   "display_name": "Python 3",
   "language": "python",
   "name": "python3"
  },
  "language_info": {
   "codemirror_mode": {
    "name": "ipython",
    "version": 3
   },
   "file_extension": ".py",
   "mimetype": "text/x-python",
   "name": "python",
   "nbconvert_exporter": "python",
   "pygments_lexer": "ipython3",
   "version": "3.12.1"
  }
 },
 "nbformat": 4,
 "nbformat_minor": 2
}
